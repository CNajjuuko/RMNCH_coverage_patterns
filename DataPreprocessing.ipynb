{
 "cells": [
  {
   "cell_type": "markdown",
   "id": "b49d92b3-802f-4dd2-ad6b-84f02073eaeb",
   "metadata": {},
   "source": [
    "### Importing packages and reading dataframes"
   ]
  },
  {
   "cell_type": "code",
   "execution_count": 1,
   "id": "bff5d8db-af4e-43ef-a601-8d01de7e30ef",
   "metadata": {},
   "outputs": [],
   "source": [
    "import os\n",
    "import pandas as pd\n",
    "import numpy as np\n",
    "import pathlib\n",
    "import shapefile\n",
    "import glob\n",
    "import pyreadstat\n",
    "import pickle\n",
    "import re\n",
    "from tqdm import tqdm\n",
    "import seaborn as sns\n",
    "import matplotlib.pyplot as plt\n",
    "\n",
    "pd.set_option('display.max_rows', None)\n",
    "pd.set_option('display.max_columns', None)"
   ]
  },
  {
   "cell_type": "code",
   "execution_count": 2,
   "id": "dfd7e816-e58a-42d3-b4f3-fc4cd2a12a4c",
   "metadata": {},
   "outputs": [],
   "source": [
    "\n",
    "CD_data = pickle.load(open('Processed_Datasets/CD_cleaned.pkl', 'rb'))\n"
   ]
  },
  {
   "cell_type": "markdown",
   "id": "cb130fb8-82a8-495b-b3c2-9a16dff6ec97",
   "metadata": {},
   "source": [
    "### Filtering out the last births and births that ended in mortality"
   ]
  },
  {
   "cell_type": "code",
   "execution_count": 3,
   "id": "c06eaf4b-970f-4511-a654-72c4951dc59c",
   "metadata": {},
   "outputs": [],
   "source": [
    "CD_data1 = CD_data[CD_data['midx'] == 1] ## Considering only the last births\n",
    "CD_dataset = CD_data1[CD_data1['ChildDied'] == 1] ## Considering only births that ended in death of the child\n",
    "\n",
    "# CD_dataset = CD_data1\n",
    "CD_dataset = CD_dataset.reset_index(drop=True)\n",
    "CD_dataset = CD_dataset.drop(columns = ['AgeOfChildAtDeath'])\n"
   ]
  },
  {
   "cell_type": "code",
   "execution_count": 4,
   "id": "b4a79757-df65-4905-8a18-4f08aafbe435",
   "metadata": {},
   "outputs": [
    {
     "name": "stdout",
     "output_type": "stream",
     "text": [
      "<class 'pandas.core.frame.DataFrame'>\n",
      "RangeIndex: 9307 entries, 0 to 9306\n",
      "Data columns (total 35 columns):\n",
      " #   Column                          Non-Null Count  Dtype  \n",
      "---  ------                          --------------  -----  \n",
      " 0   midx                            9307 non-null   object \n",
      " 1   country                         9307 non-null   object \n",
      " 2   Cluster's latitude coordinate   9307 non-null   float64\n",
      " 3   Cluster's longitude coordinate  9307 non-null   float64\n",
      " 4   stratum                         9307 non-null   int64  \n",
      " 5   psu                             9307 non-null   int64  \n",
      " 6   v005                            9307 non-null   int64  \n",
      " 7   ChildDied                       9307 non-null   int64  \n",
      " 8   ChildGender_Male                9307 non-null   int64  \n",
      " 9   PreceedingBirthInterval(33+)    9307 non-null   int64  \n",
      " 10  WasBreastfed                    9252 non-null   Int64  \n",
      " 11  HealthFacilityDelivery          9291 non-null   Int64  \n",
      " 12  SkilledDeliveryCareProvider     9288 non-null   Int64  \n",
      " 13  AntenatalCare(4+)               9148 non-null   Int64  \n",
      " 14  NeonatalTetanusProtection(2+)   9156 non-null   Int64  \n",
      " 15  IronPillsDuringPregnancy        9224 non-null   Int64  \n",
      " 16  BabyPostnatalCheck              9239 non-null   Int64  \n",
      " 17  MaternalPostpartumHealthCheck   8769 non-null   Int64  \n",
      " 18  MetNeedFamilyPlanning           9182 non-null   Int64  \n",
      " 19  CleanCookingFuel                9098 non-null   Int64  \n",
      " 20  ProtectedDrinkingWaterSource    9098 non-null   Int64  \n",
      " 21  ImprovedToiletFacility          9094 non-null   Int64  \n",
      " 22  NonTobaccoSmoker                9307 non-null   int64  \n",
      " 23  OfAgeMarriage                   8577 non-null   Int64  \n",
      " 24  UrbanResidence                  9307 non-null   int64  \n",
      " 25  WealthIndex                     9307 non-null   int64  \n",
      " 26  MothersEducationalLevel         9307 non-null   object \n",
      " 27  MothersEmploymentStatus         9292 non-null   Int64  \n",
      " 28  MothersCurrentAge               9307 non-null   int64  \n",
      " 29  MaritalStatus                   9307 non-null   object \n",
      " 30  AgeAtFirstBirth                 9307 non-null   int64  \n",
      " 31  MaternalParity                  9307 non-null   int64  \n",
      " 32  DecisionMaking_Participation    9307 non-null   int64  \n",
      " 33  weights                         9307 non-null   float64\n",
      " 34  rescaled_weights                9307 non-null   float64\n",
      "dtypes: Int64(14), float64(4), int64(13), object(4)\n",
      "memory usage: 2.6+ MB\n"
     ]
    }
   ],
   "source": [
    "CD_dataset.info()"
   ]
  },
  {
   "cell_type": "markdown",
   "id": "a59a6c7d-b7e1-4a02-ad54-e67545b63414",
   "metadata": {},
   "source": [
    "## Handling missingness"
   ]
  },
  {
   "cell_type": "code",
   "execution_count": 5,
   "id": "1a921f31-51e9-4466-970e-08ff6d4daa78",
   "metadata": {
    "scrolled": true
   },
   "outputs": [
    {
     "name": "stdout",
     "output_type": "stream",
     "text": [
      "Percentage of missing values per column:\n",
      "midx                              0.000000\n",
      "DecisionMaking_Participation      0.000000\n",
      "MaternalParity                    0.000000\n",
      "AgeAtFirstBirth                   0.000000\n",
      "MaritalStatus                     0.000000\n",
      "MothersCurrentAge                 0.000000\n",
      "MothersEducationalLevel           0.000000\n",
      "WealthIndex                       0.000000\n",
      "UrbanResidence                    0.000000\n",
      "NonTobaccoSmoker                  0.000000\n",
      "weights                           0.000000\n",
      "rescaled_weights                  0.000000\n",
      "PreceedingBirthInterval(33+)      0.000000\n",
      "Cluster's longitude coordinate    0.000000\n",
      "stratum                           0.000000\n",
      "psu                               0.000000\n",
      "v005                              0.000000\n",
      "ChildDied                         0.000000\n",
      "ChildGender_Male                  0.000000\n",
      "Cluster's latitude coordinate     0.000000\n",
      "country                           0.000000\n",
      "MothersEmploymentStatus           0.161169\n",
      "HealthFacilityDelivery            0.171914\n",
      "SkilledDeliveryCareProvider       0.204147\n",
      "WasBreastfed                      0.590953\n",
      "BabyPostnatalCheck                0.730633\n",
      "IronPillsDuringPregnancy          0.891802\n",
      "MetNeedFamilyPlanning             1.343075\n",
      "NeonatalTetanusProtection(2+)     1.622435\n",
      "AntenatalCare(4+)                 1.708392\n",
      "CleanCookingFuel                  2.245622\n",
      "ProtectedDrinkingWaterSource      2.245622\n",
      "ImprovedToiletFacility            2.288600\n",
      "MaternalPostpartumHealthCheck     5.780595\n",
      "OfAgeMarriage                     7.843559\n",
      "dtype: float64\n"
     ]
    }
   ],
   "source": [
    "## checking for missing values percentage\n",
    "missing_percent = (CD_dataset.isna().mean() * 100).sort_values(ascending=True)\n",
    "print(\"Percentage of missing values per column:\")\n",
    "print(missing_percent)"
   ]
  },
  {
   "cell_type": "code",
   "execution_count": 6,
   "id": "915496a7-5b40-4a44-8eb9-59bd6b51e383",
   "metadata": {},
   "outputs": [],
   "source": [
    "\n",
    "def impute_data(df, continuous_features):\n",
    "\n",
    "    data = df.copy()\n",
    "    #data = data.dropna()\n",
    "    \n",
    "    # preprocess continuous features\n",
    "    if continuous_features:\n",
    "        for column in continuous_features:\n",
    "            # Fill missing values with the median\n",
    "            median_value = data[column].median()\n",
    "            data[column] = data[column].fillna(median_value)\n",
    "            data[column] = data[column].astype(float)\n",
    "    \n",
    "    # Process categorical features\n",
    "    categorical_features = [col for col in data.columns if col not in continuous_features]\n",
    "    for column in categorical_features:\n",
    "        # Fill missing values with the mode\n",
    "        mode_value = data[column].mode()[0]\n",
    "        data[column] = data[column].fillna(mode_value)\n",
    "        data[column] = data[column].astype(object) \n",
    "        \n",
    "    return data\n"
   ]
  },
  {
   "cell_type": "code",
   "execution_count": 7,
   "id": "63a24c0f-6570-4b26-86a1-c21d1f0cf326",
   "metadata": {},
   "outputs": [
    {
     "name": "stdout",
     "output_type": "stream",
     "text": [
      "<class 'pandas.core.frame.DataFrame'>\n",
      "RangeIndex: 9307 entries, 0 to 9306\n",
      "Data columns (total 35 columns):\n",
      " #   Column                          Non-Null Count  Dtype  \n",
      "---  ------                          --------------  -----  \n",
      " 0   midx                            9307 non-null   object \n",
      " 1   country                         9307 non-null   object \n",
      " 2   Cluster's latitude coordinate   9307 non-null   object \n",
      " 3   Cluster's longitude coordinate  9307 non-null   object \n",
      " 4   stratum                         9307 non-null   object \n",
      " 5   psu                             9307 non-null   object \n",
      " 6   v005                            9307 non-null   object \n",
      " 7   ChildDied                       9307 non-null   object \n",
      " 8   ChildGender_Male                9307 non-null   object \n",
      " 9   PreceedingBirthInterval(33+)    9307 non-null   object \n",
      " 10  WasBreastfed                    9307 non-null   object \n",
      " 11  HealthFacilityDelivery          9307 non-null   object \n",
      " 12  SkilledDeliveryCareProvider     9307 non-null   object \n",
      " 13  AntenatalCare(4+)               9307 non-null   object \n",
      " 14  NeonatalTetanusProtection(2+)   9307 non-null   object \n",
      " 15  IronPillsDuringPregnancy        9307 non-null   object \n",
      " 16  BabyPostnatalCheck              9307 non-null   object \n",
      " 17  MaternalPostpartumHealthCheck   9307 non-null   object \n",
      " 18  MetNeedFamilyPlanning           9307 non-null   object \n",
      " 19  CleanCookingFuel                9307 non-null   object \n",
      " 20  ProtectedDrinkingWaterSource    9307 non-null   object \n",
      " 21  ImprovedToiletFacility          9307 non-null   object \n",
      " 22  NonTobaccoSmoker                9307 non-null   object \n",
      " 23  OfAgeMarriage                   9307 non-null   object \n",
      " 24  UrbanResidence                  9307 non-null   object \n",
      " 25  WealthIndex                     9307 non-null   object \n",
      " 26  MothersEducationalLevel         9307 non-null   object \n",
      " 27  MothersEmploymentStatus         9307 non-null   object \n",
      " 28  MothersCurrentAge               9307 non-null   float64\n",
      " 29  MaritalStatus                   9307 non-null   object \n",
      " 30  AgeAtFirstBirth                 9307 non-null   float64\n",
      " 31  MaternalParity                  9307 non-null   float64\n",
      " 32  DecisionMaking_Participation    9307 non-null   object \n",
      " 33  weights                         9307 non-null   object \n",
      " 34  rescaled_weights                9307 non-null   object \n",
      "dtypes: float64(3), object(32)\n",
      "memory usage: 2.5+ MB\n"
     ]
    }
   ],
   "source": [
    "pd.set_option('future.no_silent_downcasting', True)\n",
    "df_processed = impute_data(CD_dataset, ['MothersCurrentAge', 'AgeAtFirstBirth', 'MaternalParity'])\n",
    "\n",
    "# df_processed = CD_dataset # use this for complete case analysis\n",
    "df_processed.info()"
   ]
  },
  {
   "cell_type": "code",
   "execution_count": 8,
   "id": "5954d518-d633-4715-acaa-611f8f728197",
   "metadata": {},
   "outputs": [],
   "source": [
    "# pickling the BRGE_modified file\n",
    "f = open('Processed_Datasets/CD_prepared.pkl', 'wb')\n",
    "pickle.dump(df_processed, f)\n",
    "f.close()"
   ]
  },
  {
   "cell_type": "code",
   "execution_count": 9,
   "id": "c97907b6-07e6-4dd4-8641-cc1bc7035e16",
   "metadata": {},
   "outputs": [],
   "source": [
    "df_processed.to_csv('/Users/clairenajjuuko/Library/CloudStorage/Box-Box/Under_Five_Mortality/CD_data.csv', index=False)"
   ]
  },
  {
   "cell_type": "markdown",
   "id": "c9581a5f-ccfd-46df-852a-4419d9f392ad",
   "metadata": {
    "jp-MarkdownHeadingCollapsed": true
   },
   "source": [
    "## Demographic and SES Characteristics"
   ]
  },
  {
   "cell_type": "raw",
   "id": "627cf8e6-e1d0-4b55-a21e-7f4b5c65d89b",
   "metadata": {},
   "source": [
    "import pickle\n",
    "df_processed = pickle.load(open('Processed_Datasets/CD_prepared.pkl', 'rb'))"
   ]
  },
  {
   "cell_type": "code",
   "execution_count": 10,
   "id": "9f2bab61-4ea3-450f-9d47-a8add53d749c",
   "metadata": {},
   "outputs": [
    {
     "data": {
      "text/plain": [
       "count    9307.000000\n",
       "mean       29.783067\n",
       "std         8.237939\n",
       "min        15.000000\n",
       "25%        23.000000\n",
       "50%        29.000000\n",
       "75%        36.000000\n",
       "max        49.000000\n",
       "Name: MothersCurrentAge, dtype: float64"
      ]
     },
     "execution_count": 10,
     "metadata": {},
     "output_type": "execute_result"
    }
   ],
   "source": [
    "df_processed['MothersCurrentAge'].describe()"
   ]
  },
  {
   "cell_type": "code",
   "execution_count": 11,
   "id": "c75ab97b-0f31-4e7c-95e1-52b83fccccf5",
   "metadata": {},
   "outputs": [
    {
     "data": {
      "text/plain": [
       "count    9307.000000\n",
       "mean        4.190072\n",
       "std         2.854234\n",
       "min         1.000000\n",
       "25%         2.000000\n",
       "50%         4.000000\n",
       "75%         6.000000\n",
       "max        17.000000\n",
       "Name: MaternalParity, dtype: float64"
      ]
     },
     "execution_count": 11,
     "metadata": {},
     "output_type": "execute_result"
    }
   ],
   "source": [
    "df_processed['MaternalParity'].describe()"
   ]
  },
  {
   "cell_type": "code",
   "execution_count": 12,
   "id": "fd01edb4-2152-49fb-bb87-d41654b0ba78",
   "metadata": {},
   "outputs": [
    {
     "name": "stdout",
     "output_type": "stream",
     "text": [
      "ChildGender_Male\n",
      "1    5074\n",
      "0    4233\n",
      "Name: count, dtype: int64\n",
      "ChildGender_Male\n",
      "1    54.518105\n",
      "0    45.481895\n",
      "Name: proportion, dtype: float64\n"
     ]
    }
   ],
   "source": [
    "print(df_processed['ChildGender_Male'].value_counts(dropna=False))\n",
    "print(df_processed['ChildGender_Male'].value_counts(normalize=True) * 100)"
   ]
  },
  {
   "cell_type": "code",
   "execution_count": 13,
   "id": "037df390-a01c-4310-a8ca-74808d2e07ce",
   "metadata": {},
   "outputs": [
    {
     "name": "stdout",
     "output_type": "stream",
     "text": [
      "MaritalStatus\n",
      "married/living with partner                             7612\n",
      "widowed/divorced/no longer living together/separated     965\n",
      "never in union                                           730\n",
      "Name: count, dtype: int64\n",
      "MaritalStatus\n",
      "married/living with partner                             81.787902\n",
      "widowed/divorced/no longer living together/separated    10.368540\n",
      "never in union                                           7.843559\n",
      "Name: proportion, dtype: float64\n"
     ]
    }
   ],
   "source": [
    "print(df_processed['MaritalStatus'].value_counts(dropna=False))\n",
    "print(df_processed['MaritalStatus'].value_counts(normalize=True) * 100)"
   ]
  },
  {
   "cell_type": "code",
   "execution_count": 14,
   "id": "0becaa9c-3742-499b-90c3-03b80efe46f1",
   "metadata": {},
   "outputs": [
    {
     "name": "stdout",
     "output_type": "stream",
     "text": [
      "MothersEmploymentStatus\n",
      "1    5916\n",
      "0    3391\n",
      "Name: count, dtype: int64\n",
      "MothersEmploymentStatus\n",
      "1    63.565059\n",
      "0    36.434941\n",
      "Name: proportion, dtype: float64\n"
     ]
    }
   ],
   "source": [
    "print(df_processed['MothersEmploymentStatus'].value_counts(dropna=False))\n",
    "print(df_processed['MothersEmploymentStatus'].value_counts(normalize=True) * 100)"
   ]
  },
  {
   "cell_type": "code",
   "execution_count": 15,
   "id": "71fe8bba-7fce-466b-8574-3cbbd082f3df",
   "metadata": {},
   "outputs": [
    {
     "name": "stdout",
     "output_type": "stream",
     "text": [
      "MothersEducationalLevel\n",
      "No Education    3962\n",
      "Primary         3046\n",
      "Secondary       2067\n",
      "Higher           232\n",
      "Name: count, dtype: int64\n",
      "MothersEducationalLevel\n",
      "No Education    42.570109\n",
      "Primary         32.728054\n",
      "Secondary       22.209090\n",
      "Higher           2.492747\n",
      "Name: proportion, dtype: float64\n"
     ]
    }
   ],
   "source": [
    "print(df_processed['MothersEducationalLevel'].value_counts(dropna=False))\n",
    "print(df_processed['MothersEducationalLevel'].value_counts(normalize=True) * 100)"
   ]
  },
  {
   "cell_type": "code",
   "execution_count": 16,
   "id": "5cc95feb-cee2-4719-9e14-9c675b92b6b4",
   "metadata": {},
   "outputs": [
    {
     "name": "stdout",
     "output_type": "stream",
     "text": [
      "WealthIndex\n",
      "1    2481\n",
      "2    2180\n",
      "3    1917\n",
      "4    1568\n",
      "5    1161\n",
      "Name: count, dtype: int64\n",
      "WealthIndex\n",
      "1    26.657355\n",
      "2    23.423230\n",
      "3    20.597400\n",
      "4    16.847534\n",
      "5    12.474482\n",
      "Name: proportion, dtype: float64\n"
     ]
    }
   ],
   "source": [
    "print(df_processed['WealthIndex'].value_counts(dropna=False))\n",
    "print(df_processed['WealthIndex'].value_counts(normalize=True) * 100)"
   ]
  },
  {
   "cell_type": "code",
   "execution_count": 17,
   "id": "a10ce0e9-3464-429b-9a0a-b02d7d1b833e",
   "metadata": {},
   "outputs": [
    {
     "name": "stdout",
     "output_type": "stream",
     "text": [
      "UrbanResidence\n",
      "0    6622\n",
      "1    2685\n",
      "Name: count, dtype: int64\n",
      "UrbanResidence\n",
      "0    71.150747\n",
      "1    28.849253\n",
      "Name: proportion, dtype: float64\n"
     ]
    }
   ],
   "source": [
    "print(df_processed['UrbanResidence'].value_counts(dropna=False))\n",
    "print(df_processed['UrbanResidence'].value_counts(normalize=True) * 100)"
   ]
  },
  {
   "cell_type": "markdown",
   "id": "17ddd2b8-11d1-458d-9d04-ca58b2ac8b9a",
   "metadata": {
    "jp-MarkdownHeadingCollapsed": true
   },
   "source": [
    "## RMNCH Indicators"
   ]
  },
  {
   "cell_type": "code",
   "execution_count": 18,
   "id": "48e2d189-abad-46b1-a41b-1e939e8f1790",
   "metadata": {},
   "outputs": [
    {
     "name": "stdout",
     "output_type": "stream",
     "text": [
      "DecisionMaking_Participation\n",
      "0    4683\n",
      "1    4624\n",
      "Name: count, dtype: int64\n",
      "DecisionMaking_Participation\n",
      "0    50.316966\n",
      "1    49.683034\n",
      "Name: proportion, dtype: float64\n"
     ]
    }
   ],
   "source": [
    "\n",
    "print(df_processed['DecisionMaking_Participation'].value_counts(dropna=False))\n",
    "print(df_processed['DecisionMaking_Participation'].value_counts(normalize=True) * 100)"
   ]
  },
  {
   "cell_type": "code",
   "execution_count": 19,
   "id": "7404b013-8406-4408-8cf2-a33b5af46d04",
   "metadata": {},
   "outputs": [
    {
     "name": "stdout",
     "output_type": "stream",
     "text": [
      "OfAgeMarriage\n",
      "0    5310\n",
      "1    3997\n",
      "Name: count, dtype: int64\n",
      "OfAgeMarriage\n",
      "0    57.05383\n",
      "1    42.94617\n",
      "Name: proportion, dtype: float64\n"
     ]
    }
   ],
   "source": [
    "\n",
    "print(df_processed['OfAgeMarriage'].value_counts(dropna=False))\n",
    "print(df_processed['OfAgeMarriage'].value_counts(normalize=True) * 100)"
   ]
  },
  {
   "cell_type": "code",
   "execution_count": 20,
   "id": "70a02a1f-80d4-4c3d-b541-f589381c07e0",
   "metadata": {},
   "outputs": [
    {
     "name": "stdout",
     "output_type": "stream",
     "text": [
      "NonTobaccoSmoker\n",
      "1    9085\n",
      "0     222\n",
      "Name: count, dtype: int64\n",
      "NonTobaccoSmoker\n",
      "1    97.614699\n",
      "0     2.385301\n",
      "Name: proportion, dtype: float64\n"
     ]
    }
   ],
   "source": [
    "\n",
    "print(df_processed['NonTobaccoSmoker'].value_counts(dropna=False))\n",
    "print(df_processed['NonTobaccoSmoker'].value_counts(normalize=True) * 100)"
   ]
  },
  {
   "cell_type": "code",
   "execution_count": 21,
   "id": "9b52d0cd-85f1-4360-9a1d-bdf4459571d7",
   "metadata": {},
   "outputs": [
    {
     "name": "stdout",
     "output_type": "stream",
     "text": [
      "WasBreastfed\n",
      "1    6526\n",
      "0    2781\n",
      "Name: count, dtype: int64\n",
      "WasBreastfed\n",
      "1    70.119265\n",
      "0    29.880735\n",
      "Name: proportion, dtype: float64\n"
     ]
    }
   ],
   "source": [
    "\n",
    "print(df_processed['WasBreastfed'].value_counts(dropna=False))\n",
    "print(df_processed['WasBreastfed'].value_counts(normalize=True) * 100)"
   ]
  },
  {
   "cell_type": "code",
   "execution_count": 22,
   "id": "001f22d6-58e8-4582-8036-4ec87d0f7aba",
   "metadata": {},
   "outputs": [
    {
     "name": "stdout",
     "output_type": "stream",
     "text": [
      "BabyPostnatalCheck\n",
      "0    7455\n",
      "1    1852\n",
      "Name: count, dtype: int64\n",
      "BabyPostnatalCheck\n",
      "0    80.100999\n",
      "1    19.899001\n",
      "Name: proportion, dtype: float64\n"
     ]
    }
   ],
   "source": [
    "\n",
    "print(df_processed['BabyPostnatalCheck'].value_counts(dropna=False))\n",
    "print(df_processed['BabyPostnatalCheck'].value_counts(normalize=True) * 100)"
   ]
  },
  {
   "cell_type": "code",
   "execution_count": 23,
   "id": "a76d4858-6e20-488f-974b-2fc4caa3b262",
   "metadata": {},
   "outputs": [
    {
     "name": "stdout",
     "output_type": "stream",
     "text": [
      "MaternalPostpartumHealthCheck\n",
      "0    7494\n",
      "1    1813\n",
      "Name: count, dtype: int64\n",
      "MaternalPostpartumHealthCheck\n",
      "0    80.520039\n",
      "1    19.479961\n",
      "Name: proportion, dtype: float64\n"
     ]
    }
   ],
   "source": [
    "\n",
    "print(df_processed['MaternalPostpartumHealthCheck'].value_counts(dropna=False))\n",
    "print(df_processed['MaternalPostpartumHealthCheck'].value_counts(normalize=True) * 100)"
   ]
  },
  {
   "cell_type": "code",
   "execution_count": 24,
   "id": "f07df906-7666-44dc-834e-075eb4c04910",
   "metadata": {},
   "outputs": [
    {
     "name": "stdout",
     "output_type": "stream",
     "text": [
      "SkilledDeliveryCareProvider\n",
      "1    5678\n",
      "0    3629\n",
      "Name: count, dtype: int64\n",
      "SkilledDeliveryCareProvider\n",
      "1    61.007844\n",
      "0    38.992156\n",
      "Name: proportion, dtype: float64\n"
     ]
    }
   ],
   "source": [
    "\n",
    "print(df_processed['SkilledDeliveryCareProvider'].value_counts(dropna=False))\n",
    "print(df_processed['SkilledDeliveryCareProvider'].value_counts(normalize=True) * 100)"
   ]
  },
  {
   "cell_type": "code",
   "execution_count": 25,
   "id": "9fbf94a0-66fe-432e-a48c-2899c223ecb2",
   "metadata": {},
   "outputs": [
    {
     "name": "stdout",
     "output_type": "stream",
     "text": [
      "HealthFacilityDelivery\n",
      "1    5724\n",
      "0    3583\n",
      "Name: count, dtype: int64\n",
      "HealthFacilityDelivery\n",
      "1    61.502095\n",
      "0    38.497905\n",
      "Name: proportion, dtype: float64\n"
     ]
    }
   ],
   "source": [
    "\n",
    "print(df_processed['HealthFacilityDelivery'].value_counts(dropna=False))\n",
    "print(df_processed['HealthFacilityDelivery'].value_counts(normalize=True) * 100)"
   ]
  },
  {
   "cell_type": "code",
   "execution_count": 26,
   "id": "e533f7f3-c96e-45bc-86ac-844e2912c73d",
   "metadata": {},
   "outputs": [
    {
     "name": "stdout",
     "output_type": "stream",
     "text": [
      "NeonatalTetanusProtection(2+)\n",
      "0    5029\n",
      "1    4278\n",
      "Name: count, dtype: int64\n",
      "NeonatalTetanusProtection(2+)\n",
      "0    54.034598\n",
      "1    45.965402\n",
      "Name: proportion, dtype: float64\n"
     ]
    }
   ],
   "source": [
    "\n",
    "print(df_processed['NeonatalTetanusProtection(2+)'].value_counts(dropna=False))\n",
    "print(df_processed['NeonatalTetanusProtection(2+)'].value_counts(normalize=True) * 100)"
   ]
  },
  {
   "cell_type": "code",
   "execution_count": 27,
   "id": "1e383fc6-b848-4146-be63-c647ccc7b84a",
   "metadata": {},
   "outputs": [
    {
     "name": "stdout",
     "output_type": "stream",
     "text": [
      "IronPillsDuringPregnancy\n",
      "1    6773\n",
      "0    2534\n",
      "Name: count, dtype: int64\n",
      "IronPillsDuringPregnancy\n",
      "1    72.773181\n",
      "0    27.226819\n",
      "Name: proportion, dtype: float64\n"
     ]
    }
   ],
   "source": [
    "\n",
    "print(df_processed['IronPillsDuringPregnancy'].value_counts(dropna=False))\n",
    "print(df_processed['IronPillsDuringPregnancy'].value_counts(normalize=True) * 100)"
   ]
  },
  {
   "cell_type": "code",
   "execution_count": 28,
   "id": "f21eeabf-2173-4aa7-b95d-55fbf02836cf",
   "metadata": {},
   "outputs": [
    {
     "name": "stdout",
     "output_type": "stream",
     "text": [
      "AntenatalCare(4+)\n",
      "1    4814\n",
      "0    4493\n",
      "Name: count, dtype: int64\n",
      "AntenatalCare(4+)\n",
      "1    51.724508\n",
      "0    48.275492\n",
      "Name: proportion, dtype: float64\n"
     ]
    }
   ],
   "source": [
    "\n",
    "print(df_processed['AntenatalCare(4+)'].value_counts(dropna=False))\n",
    "print(df_processed['AntenatalCare(4+)'].value_counts(normalize=True) * 100)"
   ]
  },
  {
   "cell_type": "code",
   "execution_count": 29,
   "id": "c413bb6d-02b0-47d7-b84f-4b2211b852b3",
   "metadata": {},
   "outputs": [
    {
     "name": "stdout",
     "output_type": "stream",
     "text": [
      "MetNeedFamilyPlanning\n",
      "2    5542\n",
      "0    1980\n",
      "1    1785\n",
      "Name: count, dtype: int64\n",
      "MetNeedFamilyPlanning\n",
      "2    59.546578\n",
      "0    21.274310\n",
      "1    19.179112\n",
      "Name: proportion, dtype: float64\n"
     ]
    }
   ],
   "source": [
    "\n",
    "print(df_processed['MetNeedFamilyPlanning'].value_counts(dropna=False))\n",
    "print(df_processed['MetNeedFamilyPlanning'].value_counts(normalize=True) * 100)"
   ]
  },
  {
   "cell_type": "code",
   "execution_count": 30,
   "id": "13e96ec6-2864-4e2a-84e9-f8f21858e3a6",
   "metadata": {},
   "outputs": [
    {
     "name": "stdout",
     "output_type": "stream",
     "text": [
      "PreceedingBirthInterval(33+)\n",
      "0    3718\n",
      "1    3535\n",
      "2    2054\n",
      "Name: count, dtype: int64\n",
      "PreceedingBirthInterval(33+)\n",
      "0    39.948426\n",
      "1    37.982164\n",
      "2    22.069410\n",
      "Name: proportion, dtype: float64\n"
     ]
    }
   ],
   "source": [
    "\n",
    "print(df_processed['PreceedingBirthInterval(33+)'].value_counts(dropna=False))\n",
    "print(df_processed['PreceedingBirthInterval(33+)'].value_counts(normalize=True) * 100)"
   ]
  },
  {
   "cell_type": "code",
   "execution_count": 31,
   "id": "04d458d2-07bb-4026-a647-40fd5a17094f",
   "metadata": {},
   "outputs": [
    {
     "name": "stdout",
     "output_type": "stream",
     "text": [
      "ProtectedDrinkingWaterSource\n",
      "1    6110\n",
      "0    3197\n",
      "Name: count, dtype: int64\n",
      "ProtectedDrinkingWaterSource\n",
      "1    65.649511\n",
      "0    34.350489\n",
      "Name: proportion, dtype: float64\n"
     ]
    }
   ],
   "source": [
    "\n",
    "print(df_processed['ProtectedDrinkingWaterSource'].value_counts(dropna=False))\n",
    "print(df_processed['ProtectedDrinkingWaterSource'].value_counts(normalize=True) * 100)"
   ]
  },
  {
   "cell_type": "code",
   "execution_count": 32,
   "id": "a1afac89-074e-4c96-8d0e-fcf6a98695ff",
   "metadata": {},
   "outputs": [
    {
     "name": "stdout",
     "output_type": "stream",
     "text": [
      "ImprovedToiletFacility\n",
      "0    5424\n",
      "1    3883\n",
      "Name: count, dtype: int64\n",
      "ImprovedToiletFacility\n",
      "0    58.278715\n",
      "1    41.721285\n",
      "Name: proportion, dtype: float64\n"
     ]
    }
   ],
   "source": [
    "print(df_processed['ImprovedToiletFacility'].value_counts(dropna=False))\n",
    "print(df_processed['ImprovedToiletFacility'].value_counts(normalize=True) * 100)"
   ]
  },
  {
   "cell_type": "code",
   "execution_count": 33,
   "id": "4b85ab1e-bd0f-4500-9eaa-7cb5dcdc8764",
   "metadata": {},
   "outputs": [
    {
     "name": "stdout",
     "output_type": "stream",
     "text": [
      "CleanCookingFuel\n",
      "0    8581\n",
      "1     726\n",
      "Name: count, dtype: int64\n",
      "CleanCookingFuel\n",
      "0    92.19942\n",
      "1     7.80058\n",
      "Name: proportion, dtype: float64\n"
     ]
    }
   ],
   "source": [
    "print(df_processed['CleanCookingFuel'].value_counts(dropna=False))\n",
    "print(df_processed['CleanCookingFuel'].value_counts(normalize=True) * 100)"
   ]
  },
  {
   "cell_type": "code",
   "execution_count": null,
   "id": "4d9daf1d-c568-4b2b-9f98-624169835e5b",
   "metadata": {},
   "outputs": [],
   "source": []
  }
 ],
 "metadata": {
  "kernelspec": {
   "display_name": "Python (RMNCHenv)",
   "language": "python",
   "name": "rmnchenv"
  },
  "language_info": {
   "codemirror_mode": {
    "name": "ipython",
    "version": 3
   },
   "file_extension": ".py",
   "mimetype": "text/x-python",
   "name": "python",
   "nbconvert_exporter": "python",
   "pygments_lexer": "ipython3",
   "version": "3.11.5"
  }
 },
 "nbformat": 4,
 "nbformat_minor": 5
}
