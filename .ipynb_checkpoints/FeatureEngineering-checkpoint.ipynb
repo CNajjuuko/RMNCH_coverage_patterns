{
 "cells": [
  {
   "cell_type": "markdown",
   "id": "a35d477f-682f-4183-8dbc-f38640b33302",
   "metadata": {},
   "source": [
    "## Import packages and read dataset"
   ]
  },
  {
   "cell_type": "code",
   "execution_count": 1,
   "id": "c4a31652-248d-46ef-a71d-d5900bf40a9c",
   "metadata": {},
   "outputs": [],
   "source": [
    "import os\n",
    "import pandas as pd\n",
    "import numpy as np\n",
    "import pathlib\n",
    "import shapefile\n",
    "import pyreadstat\n",
    "import pickle\n",
    "import re\n",
    "from tqdm import tqdm\n"
   ]
  },
  {
   "cell_type": "code",
   "execution_count": 2,
   "id": "d861f70a-86a4-4e2f-94f6-4de2424396b0",
   "metadata": {},
   "outputs": [],
   "source": [
    "# loading data\n",
    "BRGE_df = pickle.load(open('Processed_Datasets/BR_processing.pkl', 'rb'))\n",
    "BR_metadata = pickle.load(open('Processed_Datasets/BR_processing_metadata.pkl', 'rb'))\n"
   ]
  },
  {
   "cell_type": "markdown",
   "id": "fe499867-2861-4afd-8557-afec4a8363af",
   "metadata": {},
   "source": [
    "## Child / Birth characteristics"
   ]
  },
  {
   "cell_type": "code",
   "execution_count": 3,
   "id": "069b2b56-47ae-453c-a5b7-b61efe27734b",
   "metadata": {
    "scrolled": true
   },
   "outputs": [
    {
     "name": "stdout",
     "output_type": "stream",
     "text": [
      "ChildDied\n",
      "0    304889\n",
      "1     19952\n",
      "Name: count, dtype: int64\n",
      "AgeOfChildAtDeath\n",
      "<NA>    304889\n",
      "0         8953\n",
      "24        1462\n",
      "1         1037\n",
      "2          807\n",
      "12         774\n",
      "3          726\n",
      "6          608\n",
      "36         565\n",
      "9          533\n",
      "4          489\n",
      "7          485\n",
      "8          476\n",
      "5          418\n",
      "11         342\n",
      "10         337\n",
      "13         318\n",
      "18         289\n",
      "14         264\n",
      "15         215\n",
      "48         167\n",
      "16         150\n",
      "17         114\n",
      "20         110\n",
      "19          97\n",
      "23          72\n",
      "21          71\n",
      "22          57\n",
      "55           2\n",
      "47           2\n",
      "34           2\n",
      "56           1\n",
      "39           1\n",
      "42           1\n",
      "46           1\n",
      "27           1\n",
      "54           1\n",
      "37           1\n",
      "43           1\n",
      "58           1\n",
      "35           1\n",
      "Name: count, dtype: Int64\n",
      "count    19952.0\n",
      "mean        6.72\n",
      "std         9.81\n",
      "min          0.0\n",
      "25%          0.0\n",
      "50%          1.0\n",
      "75%         11.0\n",
      "max         58.0\n",
      "Name: AgeOfChildAtDeath, dtype: Float64\n"
     ]
    }
   ],
   "source": [
    "BRGE_df = BRGE_df.copy()\n",
    "\n",
    "# b5 # child is alive - Dependent variable\n",
    "BRGE_df['b5'] = BRGE_df['b5'].replace({1: 0, 0: 1})\n",
    "BRGE_df['ChildDied'] = BRGE_df['b5']\n",
    "print(BRGE_df['ChildDied'].value_counts(dropna=False))\n",
    "\n",
    "# age at death of child (calculated in months)\n",
    "BRGE_df['AgeOfChildAtDeath'] = BRGE_df['b7']\n",
    "BRGE_df['AgeOfChildAtDeath'] = BRGE_df['AgeOfChildAtDeath'].astype('Int64')\n",
    "print(BRGE_df['AgeOfChildAtDeath'].value_counts(dropna=False))\n",
    "print(BRGE_df['AgeOfChildAtDeath'].describe().round(2))"
   ]
  },
  {
   "cell_type": "code",
   "execution_count": 4,
   "id": "41d9b58b-16c0-4659-b764-c543a628eae1",
   "metadata": {},
   "outputs": [
    {
     "name": "stdout",
     "output_type": "stream",
     "text": [
      "ChildGender_Male\n",
      "1    164516\n",
      "0    160325\n",
      "Name: count, dtype: int64\n",
      "ChildGender_Male\n",
      "1    50.65\n",
      "0    49.35\n",
      "Name: proportion, dtype: float64\n"
     ]
    }
   ],
   "source": [
    "# sex of child: Female - 0, Male - 1\n",
    "BRGE_df['b4']= BRGE_df['b4'].replace(2, 0)\n",
    "BRGE_df['ChildGender_Male'] = BRGE_df['b4']\n",
    "print(BRGE_df['ChildGender_Male'].value_counts(dropna=False))\n",
    "print((BRGE_df['ChildGender_Male'].value_counts(dropna=False, normalize=True) * 100).round(2))\n"
   ]
  },
  {
   "cell_type": "markdown",
   "id": "8bc55ef2-0584-4605-8529-16d3f801cf69",
   "metadata": {},
   "source": [
    "## Reproductive, Maternal, Newborn, and ChildHealth Intervention coverage indicators"
   ]
  },
  {
   "cell_type": "code",
   "execution_count": 5,
   "id": "011f424a-01cf-4344-8d7f-26e9b7d4d5a2",
   "metadata": {
    "scrolled": true
   },
   "outputs": [
    {
     "name": "stdout",
     "output_type": "stream",
     "text": [
      "PreceedingBirthInterval(33+)\n",
      "1    136456\n",
      "0    115933\n",
      "2     72452\n",
      "Name: count, dtype: int64\n",
      "PreceedingBirthInterval(33+)\n",
      "1    42.01\n",
      "0    35.69\n",
      "2    22.30\n",
      "Name: proportion, dtype: float64\n"
     ]
    }
   ],
   "source": [
    "# preceeding birth interval - calculated as the difference in months between the current birth and the previous birth, counting twins as one birth\n",
    "# use this # consider this < 33 months - not recommeded by WHO\n",
    "\n",
    "# Define the conditions and choices\n",
    "conditions = [\n",
    "    BRGE_df['b11'].isna(),\n",
    "    BRGE_df['b11'] < 33,          \n",
    "    BRGE_df['b11'] >= 33  \n",
    "]\n",
    "choices = [\n",
    "    2, # First birth \n",
    "    0, \n",
    "    1  \n",
    "]\n",
    "BRGE_df['PreceedingBirthInterval(33+)'] = np.select(conditions, choices)\n",
    "print(BRGE_df['PreceedingBirthInterval(33+)'].value_counts(dropna=False))\n",
    "print((BRGE_df['PreceedingBirthInterval(33+)'].value_counts(dropna=False, normalize=True) * 100).round(2))\n"
   ]
  },
  {
   "cell_type": "code",
   "execution_count": 6,
   "id": "ff3f1bd9-afda-472a-afe0-d58af4a83334",
   "metadata": {
    "scrolled": true
   },
   "outputs": [
    {
     "name": "stdout",
     "output_type": "stream",
     "text": [
      "DurationOfBreastfeeding\n",
      "93.0    186168\n",
      "0.0      21870\n",
      "2.0       6098\n",
      "6.0       5992\n",
      "4.0       5976\n",
      "         ...  \n",
      "53.0        29\n",
      "55.0        27\n",
      "59.0        27\n",
      "57.0        26\n",
      "58.0        25\n",
      "Name: count, Length: 62, dtype: int64\n",
      "WasBreastfed\n",
      "1       301940\n",
      "0        21870\n",
      "<NA>      1031\n",
      "Name: count, dtype: Int64\n",
      "WasBreastfed\n",
      "1       92.95\n",
      "0        6.73\n",
      "<NA>     0.32\n",
      "Name: proportion, dtype: Float64\n"
     ]
    },
    {
     "name": "stderr",
     "output_type": "stream",
     "text": [
      "/var/folders/j5/prw5qnh57ddff037srwvnqp40000gq/T/ipykernel_53629/1928619644.py:3: FutureWarning: Downcasting behavior in `replace` is deprecated and will be removed in a future version. To retain the old behavior, explicitly call `result.infer_objects(copy=False)`. To opt-in to the future behavior, set `pd.set_option('future.no_silent_downcasting', True)`\n",
      "  BRGE_df['m5'] = BRGE_df['m5'].replace(94, 0) # 'never breastfed'\n"
     ]
    }
   ],
   "source": [
    "# The calculated months of breastfeeding gives the duration of breastfeeding, with the duration calculated if the respondent is still breastfeeding the child or the child was breastfed until it died\n",
    "# 93 - 'ever breastfed, not currently breastfeeding'\n",
    "BRGE_df['m5'] = BRGE_df['m5'].replace(94, 0) # 'never breastfed'\n",
    "BRGE_df['m5'] = BRGE_df['m5'].replace(97, np.nan) # 'inconsistent'\n",
    "BRGE_df['m5'] = BRGE_df['m5'].replace(98, np.nan) # \"don't know\"\n",
    "BRGE_df['DurationOfBreastfeeding'] = BRGE_df['m5']\n",
    "print(BRGE_df['DurationOfBreastfeeding'].value_counts(dropna=False))\n",
    "\n",
    "# was breastfed\n",
    "BRGE_df['WasBreastfed'] = np.where(BRGE_df['DurationOfBreastfeeding'] == 0, 0, \n",
    "                                    np.where(BRGE_df['DurationOfBreastfeeding'].isna(), np.nan, 1))\n",
    "BRGE_df['WasBreastfed'] = BRGE_df['WasBreastfed'].astype('Int64')\n",
    "print(BRGE_df['WasBreastfed'].value_counts(dropna=False))\n",
    "print((BRGE_df['WasBreastfed'].value_counts(dropna=False, normalize=True) * 100).round(2))\n"
   ]
  },
  {
   "cell_type": "code",
   "execution_count": 7,
   "id": "4979e1a0-7be0-4ea3-ae81-32c71a59a19f",
   "metadata": {
    "scrolled": true
   },
   "outputs": [
    {
     "name": "stdout",
     "output_type": "stream",
     "text": [
      "HealthFacilityDelivery\n",
      "1       215552\n",
      "0       109052\n",
      "<NA>       237\n",
      "Name: count, dtype: Int64\n",
      "HealthFacilityDelivery\n",
      "1       66.36\n",
      "0       33.57\n",
      "<NA>     0.07\n",
      "Name: proportion, dtype: Float64\n"
     ]
    }
   ],
   "source": [
    "# place of delivery\n",
    "BRGE_df['m15'] = BRGE_df['m15'].replace(10, 'home') # home\n",
    "BRGE_df['m15'] = BRGE_df['m15'].replace(11, 'home') # respondent's home\n",
    "BRGE_df['m15'] = BRGE_df['m15'].replace(12, 'home') # other home\n",
    "BRGE_df['m15'] = BRGE_df['m15'].replace(13, 'home') # tba premises\n",
    "BRGE_df['m15'] = BRGE_df['m15'].replace(14, 'home') # on the way to the hospital\n",
    "BRGE_df['m15'] = BRGE_df['m15'].replace(20, 'health facility') # public sector\n",
    "BRGE_df['m15'] = BRGE_df['m15'].replace(21, 'health facility') # government hospital\n",
    "BRGE_df['m15'] = BRGE_df['m15'].replace(22, 'health facility') # government health center\n",
    "BRGE_df['m15'] = BRGE_df['m15'].replace(23, 'health facility') # medical center with surgical antenna (cma)/ district hospital (hd)\n",
    "BRGE_df['m15'] = BRGE_df['m15'].replace(24, 'health facility') # health center/post\n",
    "BRGE_df['m15'] = BRGE_df['m15'].replace(25, 'health facility') # maternity\n",
    "BRGE_df['m15'] = BRGE_df['m15'].replace(26, 'health facility') # other public sector / maternity\n",
    "BRGE_df['m15'] = BRGE_df['m15'].replace(27, 'health facility') # dispensary\n",
    "BRGE_df['m15'] = BRGE_df['m15'].replace(28, 'health facility') # other public sector\n",
    "BRGE_df['m15'] = BRGE_df['m15'].replace(30, 'health facility') # private sector\n",
    "BRGE_df['m15'] = BRGE_df['m15'].replace(31, 'health facility') # private hospital/clinic\n",
    "BRGE_df['m15'] = BRGE_df['m15'].replace(32, 'health facility') # medical center\n",
    "BRGE_df['m15'] = BRGE_df['m15'].replace(33, 'health facility') # medical post\n",
    "BRGE_df['m15'] = BRGE_df['m15'].replace(34, 'health facility') # maternity clinic\n",
    "BRGE_df['m15'] = BRGE_df['m15'].replace(35, 'health facility') # nursing cabinet\n",
    "BRGE_df['m15'] = BRGE_df['m15'].replace(36, 'health facility') # other private sector\n",
    "BRGE_df['m15'] = BRGE_df['m15'].replace(40, 'health facility') # ngo sector\n",
    "BRGE_df['m15'] = BRGE_df['m15'].replace(41, 'health facility') # ngo hospital\n",
    "BRGE_df['m15'] = BRGE_df['m15'].replace(42, 'health facility') # ngo clinic\n",
    "BRGE_df['m15'] = BRGE_df['m15'].replace(43, 'health facility') # fbo/mission hospital\n",
    "BRGE_df['m15'] = BRGE_df['m15'].replace(44, 'health facility') # fbo/mission clinic\n",
    "BRGE_df['m15'] = BRGE_df['m15'].replace(45, 'health facility') # religious/voluntary dispensary\n",
    "BRGE_df['m15'] = BRGE_df['m15'].replace(46, 'health facility') # ngo other\n",
    "BRGE_df['m15'] = BRGE_df['m15'].replace(47, 'health facility') # other fbo medical sector\n",
    "BRGE_df['m15'] = BRGE_df['m15'].replace(96, 'home') # other\n",
    "BRGE_df['PlaceOfDelivery'] = BRGE_df['m15']\n",
    "\n",
    "BRGE_df['HealthFacilityDelivery'] = np.where(BRGE_df['PlaceOfDelivery'] == \"home\", 0, \n",
    "                                    np.where(BRGE_df['PlaceOfDelivery'].isna(), np.nan, 1))\n",
    "\n",
    "BRGE_df['HealthFacilityDelivery'] = BRGE_df['HealthFacilityDelivery'].astype('Int64')\n",
    "                                          \n",
    "print(BRGE_df['HealthFacilityDelivery'].value_counts(dropna=False))\n",
    "print((BRGE_df['HealthFacilityDelivery'].value_counts(dropna=False, normalize=True) * 100).round(2))\n"
   ]
  },
  {
   "cell_type": "code",
   "execution_count": 8,
   "id": "cb6f37e7-678b-4856-b186-86ad8feaf71c",
   "metadata": {},
   "outputs": [
    {
     "name": "stdout",
     "output_type": "stream",
     "text": [
      "SkilledDeliveryCareProvider\n",
      "1       211928\n",
      "0       112637\n",
      "<NA>       276\n",
      "Name: count, dtype: Int64\n",
      "SkilledDeliveryCareProvider\n",
      "1       65.24\n",
      "0       34.67\n",
      "<NA>     0.08\n",
      "Name: proportion, dtype: Float64\n"
     ]
    }
   ],
   "source": [
    "# delivery care: skilled, unskilled, or no one\n",
    "BRGE_df['DeliveryCareProvider'] = pd.NA\n",
    "BRGE_df.loc[(BRGE_df['m3a'] == 1) | (BRGE_df['m3b'] == 1) | (BRGE_df['m3c'] == 1) | (BRGE_df['m3d'] == 1) | (BRGE_df['m3e'] == 1) | (BRGE_df['m3f'] == 1), 'DeliveryCareProvider'] = 'Skilled'\n",
    "BRGE_df.loc[(BRGE_df['m3g'] == 1) | (BRGE_df['m3h'] == 1) | (BRGE_df['m3i'] == 1) | (BRGE_df['m3j'] == 1) | (BRGE_df['m3k'] == 1), 'DeliveryCareProvider'] = 'Unskilled/No one'\n",
    "BRGE_df.loc[BRGE_df['m3n'] == 1, 'DeliveryCareProvider'] = 'Unskilled/No one'\n",
    "\n",
    "BRGE_df['SkilledDeliveryCareProvider'] = np.where(BRGE_df['DeliveryCareProvider'] == \"Unskilled/No one\", 0, \n",
    "                                    np.where(BRGE_df['DeliveryCareProvider'].isna(), np.nan, 1))\n",
    "\n",
    "BRGE_df['SkilledDeliveryCareProvider'] = BRGE_df['SkilledDeliveryCareProvider'].astype('Int64')\n",
    "print(BRGE_df['SkilledDeliveryCareProvider'].value_counts(dropna=False))\n",
    "print((BRGE_df['SkilledDeliveryCareProvider'].value_counts(dropna=False, normalize=True) * 100).round(2))\n"
   ]
  },
  {
   "cell_type": "code",
   "execution_count": 9,
   "id": "1a002499-5d3d-4fbe-9035-388b550f0271",
   "metadata": {
    "scrolled": true
   },
   "outputs": [
    {
     "name": "stdout",
     "output_type": "stream",
     "text": [
      "AntenatalCare(4+)\n",
      "1       130628\n",
      "<NA>     97523\n",
      "0        96690\n",
      "Name: count, dtype: Int64\n",
      "AntenatalCare(4+)\n",
      "1       40.21\n",
      "<NA>    30.02\n",
      "0       29.77\n",
      "Name: proportion, dtype: Float64\n"
     ]
    }
   ],
   "source": [
    "# number of antenatal visits - last birth\n",
    "pd.set_option('future.no_silent_downcasting', True)\n",
    "BRGE_df['m14']= BRGE_df['m14'].replace(98, np.nan) # don't know # other NaN, becuase question was asked to those with births in last five years\n",
    "BRGE_df['AntenatalCare'] = BRGE_df['m14']\n",
    "\n",
    "# Replace values based on condition\n",
    "BRGE_df['AntenatalCare(4+)'] = np.where(BRGE_df['m14'] >= 4, 1, np.where(BRGE_df['m14'] < 4, 0, np.nan))\n",
    "\n",
    "BRGE_df['AntenatalCare(4+)'] = BRGE_df['AntenatalCare(4+)'].astype('Int64')\n",
    "\n",
    "print(BRGE_df['AntenatalCare(4+)'].value_counts(dropna=False))\n",
    "print((BRGE_df['AntenatalCare(4+)'].value_counts(dropna=False, normalize=True) * 100).round(2))\n"
   ]
  },
  {
   "cell_type": "code",
   "execution_count": 10,
   "id": "61de612f-88fc-4996-b5dd-a38ba7acc92a",
   "metadata": {
    "scrolled": true
   },
   "outputs": [
    {
     "name": "stdout",
     "output_type": "stream",
     "text": [
      "NumberOfTTBeforeBirth\n",
      "NaN    97244\n",
      "2      73261\n",
      "1      61968\n",
      "0      53756\n",
      "3      30296\n",
      "4       4623\n",
      "5       3140\n",
      "6        352\n",
      "7        201\n",
      "Name: count, dtype: int64\n",
      "count     227597\n",
      "unique         8\n",
      "top            2\n",
      "freq       73261\n",
      "Name: NumberOfTTBeforeBirth, dtype: int64\n",
      "NeonatalTetanusProtection(2+)\n",
      "0       115724\n",
      "1       111873\n",
      "<NA>     97244\n",
      "Name: count, dtype: Int64\n",
      "NeonatalTetanusProtection(2+)\n",
      "0       35.62\n",
      "1       34.44\n",
      "<NA>    29.94\n",
      "Name: proportion, dtype: Float64\n"
     ]
    }
   ],
   "source": [
    "### Neonatal tetanus protection\n",
    "# number of tetanus injections before birth - last birth\n",
    "BRGE_df['m1'] = BRGE_df['m1'].replace(8, np.nan) # don't know\n",
    "BRGE_df['NumberOfTTBeforeBirth'] = BRGE_df['m1'] \n",
    "\n",
    "print(BRGE_df['NumberOfTTBeforeBirth'].value_counts(dropna=False))\n",
    "print(BRGE_df['NumberOfTTBeforeBirth'].describe().round(2))\n",
    "\n",
    "BRGE_df['NeonatalTetanusProtection(2+)'] = np.where(BRGE_df['NumberOfTTBeforeBirth'] >= 2, 1, \n",
    "                                                np.where(BRGE_df['NumberOfTTBeforeBirth'] < 2, 0, np.nan))\n",
    "\n",
    "BRGE_df['NeonatalTetanusProtection(2+)'] = BRGE_df['NeonatalTetanusProtection(2+)'].astype('Int64')\n",
    "\n",
    "print(BRGE_df['NeonatalTetanusProtection(2+)'].value_counts(dropna=False))\n",
    "print((BRGE_df['NeonatalTetanusProtection(2+)'].value_counts(dropna=False, normalize=True) * 100).round(2))\n"
   ]
  },
  {
   "cell_type": "code",
   "execution_count": 11,
   "id": "3ba7896b-e301-4535-9460-74961d2b2b63",
   "metadata": {},
   "outputs": [
    {
     "name": "stdout",
     "output_type": "stream",
     "text": [
      "IronPillsDuringPregnancy\n",
      "1       181075\n",
      "<NA>     94849\n",
      "0        48917\n",
      "Name: count, dtype: Int64\n",
      "IronPillsDuringPregnancy\n",
      "1       55.74\n",
      "<NA>     29.2\n",
      "0       15.06\n",
      "Name: proportion, dtype: Float64\n"
     ]
    }
   ],
   "source": [
    "# during pregnancy, given or bought iron tablets/syrup\n",
    "BRGE_df['m45'] = BRGE_df['m45'].replace(8, np.nan)\n",
    "BRGE_df['IronPillsDuringPregnancy'] = BRGE_df['m45']\n",
    "BRGE_df['IronPillsDuringPregnancy'] = BRGE_df['IronPillsDuringPregnancy'].astype('Int64')\n",
    "\n",
    "print(BRGE_df['IronPillsDuringPregnancy'].value_counts(dropna=False))\n",
    "print((BRGE_df['IronPillsDuringPregnancy'].value_counts(dropna=False, normalize=True) * 100).round(2))\n"
   ]
  },
  {
   "cell_type": "code",
   "execution_count": 12,
   "id": "51054553-e0e2-4a3a-9883-4520f1010468",
   "metadata": {},
   "outputs": [
    {
     "name": "stdout",
     "output_type": "stream",
     "text": [
      "BabyPostnatalCheck\n",
      "0       154789\n",
      "<NA>     95020\n",
      "1        75032\n",
      "Name: count, dtype: Int64\n",
      "BabyPostnatalCheck\n",
      "0       47.65\n",
      "<NA>    29.25\n",
      "1        23.1\n",
      "Name: proportion, dtype: Float64\n"
     ]
    }
   ],
   "source": [
    "# Baby postnatal check within 2 months - for the last birth\n",
    "BRGE_df['m70'] = BRGE_df['m70'].replace(8, np.nan) # don't know\n",
    "BRGE_df['m70'] = BRGE_df['m70'].replace(3, 0) #child dies in hospital\n",
    "\n",
    "BRGE_df['BabyPostnatalCheck'] = BRGE_df['m70']\n",
    "BRGE_df['BabyPostnatalCheck'] = BRGE_df['BabyPostnatalCheck'].astype('Int64')\n",
    "print(BRGE_df['BabyPostnatalCheck'].value_counts(dropna=False))\n",
    "print((BRGE_df['BabyPostnatalCheck'].value_counts(dropna=False, normalize=True) * 100).round(2))\n"
   ]
  },
  {
   "cell_type": "code",
   "execution_count": 13,
   "id": "c6cf85b8-1903-4ec6-9cca-86281b74d7e0",
   "metadata": {},
   "outputs": [
    {
     "name": "stdout",
     "output_type": "stream",
     "text": [
      "MaternalPostpartumHealthCheck\n",
      "0       164329\n",
      "<NA>    105146\n",
      "1        55366\n",
      "Name: count, dtype: Int64\n",
      "MaternalPostpartumHealthCheck\n",
      "0       50.59\n",
      "<NA>    32.37\n",
      "1       17.04\n",
      "Name: proportion, dtype: Float64\n"
     ]
    }
   ],
   "source": [
    "# Postpartum check-up of mother after discharge or delivery at home (m66)\n",
    "BRGE_df['m66'] = BRGE_df['m66'].replace(8, np.nan) # don't know\n",
    "\n",
    "BRGE_df['MaternalPostpartumHealthCheck'] = BRGE_df['m66']\n",
    "BRGE_df['MaternalPostpartumHealthCheck'] = BRGE_df['MaternalPostpartumHealthCheck'].astype('Int64')\n",
    "print(BRGE_df['MaternalPostpartumHealthCheck'].value_counts(dropna=False))\n",
    "print((BRGE_df['MaternalPostpartumHealthCheck'].value_counts(dropna=False, normalize=True) * 100).round(2))\n"
   ]
  },
  {
   "cell_type": "code",
   "execution_count": 14,
   "id": "55893c7d-6337-432d-9f54-976fbeea9382",
   "metadata": {},
   "outputs": [
    {
     "name": "stdout",
     "output_type": "stream",
     "text": [
      "MetNeedFamilyPlanning\n",
      "2       134997\n",
      "0        92754\n",
      "1        91308\n",
      "<NA>      5782\n",
      "Name: count, dtype: Int64\n",
      "MetNeedFamilyPlanning\n",
      "2       41.56\n",
      "0       28.55\n",
      "1       28.11\n",
      "<NA>     1.78\n",
      "Name: proportion, dtype: Float64\n"
     ]
    }
   ],
   "source": [
    "# Met need for family planning\n",
    "BRGE_df['v626a'] = BRGE_df['v626a'].replace({0: np.nan, 1: 0, 2: 0, 3: 1, 4: 1, 7: 2, 8: 2, 9: 2})\n",
    "\n",
    "BRGE_df['MetNeedFamilyPlanning'] = BRGE_df['v626a']\n",
    "BRGE_df['MetNeedFamilyPlanning'] = BRGE_df['MetNeedFamilyPlanning'].astype('Int64')\n",
    "print(BRGE_df['MetNeedFamilyPlanning'].value_counts(dropna=False))\n",
    "print((BRGE_df['MetNeedFamilyPlanning'].value_counts(dropna=False, normalize=True) * 100).round(2))"
   ]
  },
  {
   "cell_type": "code",
   "execution_count": 15,
   "id": "8fcc649a-573b-4ec3-9394-16762b8893ef",
   "metadata": {},
   "outputs": [
    {
     "name": "stdout",
     "output_type": "stream",
     "text": [
      "CleanCookingFuel\n",
      "0       286176\n",
      "1        32331\n",
      "<NA>      6334\n",
      "Name: count, dtype: Int64\n",
      "CleanCookingFuel\n",
      "0       88.1\n",
      "1       9.95\n",
      "<NA>    1.95\n",
      "Name: proportion, dtype: Float64\n"
     ]
    }
   ],
   "source": [
    "# type of cooking fuel\n",
    "## https://www.ncbi.nlm.nih.gov/pmc/articles/PMC8394069/\n",
    "# Change 5 to clean, and 6 to clean - BF, CI, GH, TZ\n",
    "# Change 14 and 12 to clean - KE\n",
    "# Change 14 to clean - ZA\n",
    "\n",
    "BRGE_df['v161'] = BRGE_df['v161'].replace(1, \"clean\") # electricity\n",
    "BRGE_df['v161'] = BRGE_df['v161'].replace(2, \"clean\") # lpg # solar\n",
    "BRGE_df['v161'] = BRGE_df['v161'].replace(3, \"clean\") # natural gas # lpg\n",
    "BRGE_df['v161'] = BRGE_df['v161'].replace(4, \"clean\") # biogas # piped natural gas\n",
    "\n",
    "# Replace 5 and 6 with \"clean\" or the specified countries : biogas, alcohol/ethanol\n",
    "BRGE_df.loc[BRGE_df['country'].isin(['BF', 'CI', 'GH', 'TZ']), 'v161'] = BRGE_df.loc[BRGE_df['country'].isin(['BF', 'CI', 'GH', 'TZ']), 'v161'].replace({5: \"clean\", 6: \"clean\"})\n",
    "# Replace 5 and 6 with \"solid\" or the specified countries : petroleum/kerosene, coal, lignite\n",
    "BRGE_df.loc[~BRGE_df['country'].isin(['BF', 'CI', 'GH', 'TZ']), 'v161'] = BRGE_df.loc[~BRGE_df['country'].isin(['BF', 'CI', 'GH', 'TZ']), 'v161'].replace({5: \"solid\", 6: \"solid\"})\n",
    "\n",
    "BRGE_df['v161'] = BRGE_df['v161'].replace(7, \"solid\") # charcoal # gasoline/diesel\n",
    "BRGE_df['v161'] = BRGE_df['v161'].replace(8, \"solid\") # wood # kerosene/paraffin\n",
    "BRGE_df['v161'] = BRGE_df['v161'].replace(9, \"solid\") # straw/shrub/grass # coal/lignite\n",
    "BRGE_df['v161'] = BRGE_df['v161'].replace(10, \"solid\") # agricultural crops # charcoal\n",
    "BRGE_df['v161'] = BRGE_df['v161'].replace(11, \"solid\") # animal dung/waste # wood # sawdust\n",
    "\n",
    "# Replace 12 and 14 with \"clean\" or the specified countries : alcohol/ethanol, solar power\n",
    "BRGE_df.loc[BRGE_df['country'].isin(['KE']), 'v161'] = BRGE_df.loc[BRGE_df['country'].isin(['KE']), 'v161'].replace({12: \"clean\", 14: \"clean\"})\n",
    "# Replace 12 and 14 with \"solid\" or the specified countries : cardboard/paper # straw/shrubs/grass # briquette # electricity from generator, animal dung/waste \n",
    "BRGE_df.loc[~BRGE_df['country'].isin(['KE']), 'v161'] = BRGE_df.loc[~BRGE_df['country'].isin(['KE']), 'v161'].replace({12: \"solid\", 14: \"solid\"})\n",
    "\n",
    "# Replace 14 with \"clean\" or the specified countries : solar power\n",
    "BRGE_df.loc[BRGE_df['country'].isin(['ZA']), 'v161'] = BRGE_df.loc[BRGE_df['country'].isin(['ZA']), 'v161'].replace({14: \"clean\"})\n",
    "# Replace 12 and 14 with \"solid\" or the specified countries : animal dung/waste \n",
    "BRGE_df.loc[~BRGE_df['country'].isin(['ZA']), 'v161'] = BRGE_df.loc[~BRGE_df['country'].isin(['ZA']), 'v161'].replace({14: \"solid\"})\n",
    "\n",
    "BRGE_df['v161'] = BRGE_df['v161'].replace(13, \"solid\") # agricultural crop # saw dust # electricity from other source\n",
    "BRGE_df['v161'] = BRGE_df['v161'].replace(15, \"solid\") # processed biomass (pellets) or woodchips\n",
    "BRGE_df['v161'] = BRGE_df['v161'].replace(16, \"solid\") # garbage/plastic\n",
    "BRGE_df['v161'] = BRGE_df['v161'].replace(17, \"solid\") # sawdust\n",
    "BRGE_df['v161'] = BRGE_df['v161'].replace(95, \"solid\") # no food cooked in house\n",
    "BRGE_df['v161'] = BRGE_df['v161'].replace(96, \"solid\") # other\n",
    "BRGE_df['v161'] = BRGE_df['v161'].replace(97, np.nan) # not a dejure resident\n",
    "\n",
    "BRGE_df['CleanCookingFuel'] = BRGE_df['v161']\n",
    "\n",
    "BRGE_df['CleanCookingFuel'] = BRGE_df['CleanCookingFuel'].replace({'clean': 1, 'solid': 0})\n",
    "BRGE_df['CleanCookingFuel'] = BRGE_df['CleanCookingFuel'].astype('Int64')\n",
    "print(BRGE_df['CleanCookingFuel'].value_counts(dropna=False))\n",
    "print((BRGE_df['CleanCookingFuel'].value_counts(dropna=False, normalize=True) * 100).round(2))\n"
   ]
  },
  {
   "cell_type": "code",
   "execution_count": 16,
   "id": "d65156f3-deda-4d8f-a337-919cbc9a7d54",
   "metadata": {},
   "outputs": [
    {
     "name": "stdout",
     "output_type": "stream",
     "text": [
      "ProtectedDrinkingWaterSource\n",
      "1       213136\n",
      "0       105358\n",
      "<NA>      6347\n",
      "Name: count, dtype: Int64\n",
      "ProtectedDrinkingWaterSource\n",
      "1       65.61\n",
      "0       32.43\n",
      "<NA>     1.95\n",
      "Name: proportion, dtype: Float64\n"
     ]
    }
   ],
   "source": [
    "# source of drinking water\n",
    "BRGE_df['v113'] = BRGE_df['v113'].replace(10, 'Protected') ## piped water\n",
    "BRGE_df['v113'] = BRGE_df['v113'].replace(11, 'Protected') ## piped into dwelling\n",
    "BRGE_df['v113'] = BRGE_df['v113'].replace(12, 'Protected') ## piped to yard/plot\n",
    "BRGE_df['v113'] = BRGE_df['v113'].replace(13, 'Protected') ## piped to neighbour\n",
    "BRGE_df['v113'] = BRGE_df['v113'].replace(14, 'Protected') ## public tap/standpipe\n",
    "BRGE_df['v113'] = BRGE_df['v113'].replace(15, 'Protected') ## standpipe\n",
    "BRGE_df['v113'] = BRGE_df['v113'].replace(16, 'Protected') ## autonomous water station\n",
    "BRGE_df['v113'] = BRGE_df['v113'].replace(20, 'Protected') ## tube well water\n",
    "BRGE_df['v113'] = BRGE_df['v113'].replace(21, 'Protected') ## tube well or borehole\n",
    "BRGE_df['v113'] = BRGE_df['v113'].replace(22, 'Protected') ## borehole\n",
    "BRGE_df['v113'] = BRGE_df['v113'].replace(33, 'Protected') ## borehole with pump\n",
    "BRGE_df['v113'] = BRGE_df['v113'].replace(30, 'Protected') ## dug well (open/protected)\n",
    "BRGE_df['v113'] = BRGE_df['v113'].replace(31, 'Protected') ## protected well\n",
    "BRGE_df['v113'] = BRGE_df['v113'].replace(32, 'Unprotected') ## unprotected well\n",
    "BRGE_df['v113'] = BRGE_df['v113'].replace(40, 'Unprotected') ## surface from spring\n",
    "BRGE_df['v113'] = BRGE_df['v113'].replace(41, 'Protected') ## protected spring\n",
    "BRGE_df['v113'] = BRGE_df['v113'].replace(42, 'Unprotected') ## unprotected spring\n",
    "BRGE_df['v113'] = BRGE_df['v113'].replace(43, 'Unprotected') ## river/dam/lake/ponds/stream/canal/irrigation channel\n",
    "BRGE_df['v113'] = BRGE_df['v113'].replace(51, 'Unprotected') ## rainwater\n",
    "BRGE_df['v113'] = BRGE_df['v113'].replace(61, 'Protected') ## tanker truck\n",
    "BRGE_df['v113'] = BRGE_df['v113'].replace(62, 'Protected') ## cart with small tank\n",
    "BRGE_df['v113'] = BRGE_df['v113'].replace(63, 'Protected') ## bicycle with jerrycans\n",
    "BRGE_df['v113'] = BRGE_df['v113'].replace(71, 'Protected') ## bottled water\n",
    "BRGE_df['v113'] = BRGE_df['v113'].replace(72, 'Unprotected') ## sachet water\n",
    "BRGE_df['v113'] = BRGE_df['v113'].replace(92, 'Unprotected') ## sachet water\n",
    "BRGE_df['v113'] = BRGE_df['v113'].replace(82, 'Unprotected') ## sachet water\n",
    "BRGE_df['v113'] = BRGE_df['v113'].replace(73, 'Protected') ## water kiosk/domestic points\n",
    "BRGE_df['v113'] = BRGE_df['v113'].replace(96, 'Unprotected') ## other\n",
    "BRGE_df['v113'] = BRGE_df['v113'].replace(97, np.nan) ## not a dejure resident\n",
    "\n",
    "BRGE_df['DrinkingWaterSource'] = BRGE_df['v113']\n",
    "\n",
    "BRGE_df['ProtectedDrinkingWaterSource'] = np.where(BRGE_df['DrinkingWaterSource'] == \"Unprotected\", 0, \n",
    "                                    np.where(BRGE_df['DrinkingWaterSource'].isna(), np.nan, 1))\n",
    "\n",
    "BRGE_df['ProtectedDrinkingWaterSource'] = BRGE_df['ProtectedDrinkingWaterSource'].astype('Int64')\n",
    "\n",
    "print(BRGE_df['ProtectedDrinkingWaterSource'].value_counts(dropna=False))\n",
    "print((BRGE_df['ProtectedDrinkingWaterSource'].value_counts(dropna=False, normalize=True) * 100).round(2))\n"
   ]
  },
  {
   "cell_type": "code",
   "execution_count": 17,
   "id": "d7260032-6f9d-4c05-95f3-fd4e9a95a526",
   "metadata": {},
   "outputs": [
    {
     "name": "stdout",
     "output_type": "stream",
     "text": [
      "ImprovedToiletFacility\n",
      "0       170667\n",
      "1       147784\n",
      "<NA>      6390\n",
      "Name: count, dtype: Int64\n",
      "ImprovedToiletFacility\n",
      "0       52.54\n",
      "1       45.49\n",
      "<NA>     1.97\n",
      "Name: proportion, dtype: Float64\n"
     ]
    }
   ],
   "source": [
    "# type of toilet facility\n",
    "BRGE_df['v116'] = BRGE_df['v116'].replace(10, 'Improved') ## flush toilet\n",
    "BRGE_df['v116'] = BRGE_df['v116'].replace(11, 'Improved') ## flush to piped sewer system / indoors: flush to piped public system\n",
    "BRGE_df['v116'] = BRGE_df['v116'].replace(12, 'Improved') ## flush to septic tank / indoors: flush to septic tank\n",
    "# Replace 'v116' 13 and 14 values where 'country' column is \"AO\"\n",
    "BRGE_df.loc[BRGE_df['country'] == \"AO\", 'v116'] = BRGE_df.loc[BRGE_df['country'] == \"AO\", 'v116'].replace(13, 'Unimproved') #indoors: flush to open pit (ditch or river)\n",
    "BRGE_df.loc[BRGE_df['country'] == \"AO\", 'v116'] = BRGE_df.loc[BRGE_df['country'] == \"AO\", 'v116'].replace(14, 'Improved')   #iinside yard: flush to piped public system\n",
    "# Replace 'v116' 13 and 14 values where 'country' column is not \"AO\"\n",
    "BRGE_df.loc[BRGE_df['country'] != \"AO\", 'v116'] = BRGE_df.loc[BRGE_df['country'] != \"AO\", 'v116'].replace(13, 'Improved')   #flush to pit latrine\n",
    "BRGE_df.loc[BRGE_df['country'] != \"AO\", 'v116'] = BRGE_df.loc[BRGE_df['country'] != \"AO\", 'v116'].replace(14, 'Unimproved')  #flush to somewhere else\n",
    "BRGE_df['v116'] = BRGE_df['v116'].replace(15, 'Improved') ## flush, don't know where / inside yard: flush to septic tank\n",
    "BRGE_df['v116'] = BRGE_df['v116'].replace(16, 'Unimproved') ## inside yard: flush to open pit (ditch or river)\n",
    "BRGE_df['v116'] = BRGE_df['v116'].replace(17, 'Improved') ## out of yard: flush to piped public system\n",
    "BRGE_df['v116'] = BRGE_df['v116'].replace(18, 'Improved') ## out of yard: flush to septic tank\n",
    "BRGE_df['v116'] = BRGE_df['v116'].replace(19, 'Unimproved') ## out of yard: flush to open pit (ditch or river)\n",
    "BRGE_df['v116'] = BRGE_df['v116'].replace(20, 'Improved') ## pit toilet latrine\n",
    "BRGE_df['v116'] = BRGE_df['v116'].replace(21, 'Improved') ## ventilated improved pit latrine (vip) / indoors: latrine to piped public system\n",
    "BRGE_df['v116'] = BRGE_df['v116'].replace(22, 'Improved') ## pit latrine with slab / indoors: latrine to septic tank\n",
    "BRGE_df['v116'] = BRGE_df['v116'].replace(23, 'Unimproved') ## pit latrine without slab/open pit\n",
    "BRGE_df['v116'] = BRGE_df['v116'].replace(24, 'Improved') ## inside yard: latrine to piped public system\n",
    "BRGE_df['v116'] = BRGE_df['v116'].replace(25, 'Improved') ## inside yard: latrine to septic tank\n",
    "BRGE_df['v116'] = BRGE_df['v116'].replace(26, 'Unimproved') ## inside yard: latrine to open pit (ditch or river)\n",
    "BRGE_df['v116'] = BRGE_df['v116'].replace(27, 'Improved') ## out of yard: latrine to piped public system\n",
    "BRGE_df['v116'] = BRGE_df['v116'].replace(28, 'Improved') ## out of yard: latrine to septic tank\n",
    "BRGE_df['v116'] = BRGE_df['v116'].replace(29, 'Unimproved') ## out of yard: latrine to open pit (ditch or river)\n",
    "BRGE_df['v116'] = BRGE_df['v116'].replace(30, 'Unimproved') ## no facility\n",
    "BRGE_df['v116'] = BRGE_df['v116'].replace(31, 'Unimproved') ## no facility/bush/field\n",
    "BRGE_df['v116'] = BRGE_df['v116'].replace(41, 'Improved') ## composting toilet/ecosan\n",
    "BRGE_df['v116'] = BRGE_df['v116'].replace(42, 'Unimproved') ## bucket toilet / bucket/potty/other container\n",
    "BRGE_df['v116'] = BRGE_df['v116'].replace(43, 'Unimproved') ## hanging toilet/latrine\n",
    "BRGE_df['v116'] = BRGE_df['v116'].replace(44, 'Improved') ## chemical toilet\n",
    "BRGE_df['v116'] = BRGE_df['v116'].replace(96, 'Unimproved') ## other\n",
    "BRGE_df['v116'] = BRGE_df['v116'].replace(97, np.nan) ## not a dejure resident\n",
    "\n",
    "BRGE_df['TypeOfToiletFacility'] = BRGE_df['v116']\n",
    "\n",
    "BRGE_df['ImprovedToiletFacility'] = np.where(BRGE_df['TypeOfToiletFacility'] == \"Unimproved\", 0, \n",
    "                                    np.where(BRGE_df['TypeOfToiletFacility'].isna(), np.nan, 1))\n",
    "\n",
    "BRGE_df['ImprovedToiletFacility'] = BRGE_df['ImprovedToiletFacility'].astype('Int64')\n",
    "\n",
    "print(BRGE_df['ImprovedToiletFacility'].value_counts(dropna=False))\n",
    "print((BRGE_df['ImprovedToiletFacility'].value_counts(dropna=False, normalize=True) * 100).round(2))\n",
    "\n"
   ]
  },
  {
   "cell_type": "code",
   "execution_count": 18,
   "id": "0adec41a-7f3b-48b7-9857-ad24c3030c3f",
   "metadata": {
    "scrolled": true
   },
   "outputs": [
    {
     "name": "stdout",
     "output_type": "stream",
     "text": [
      "MaternalTobaccoUse\n",
      "0    319655\n",
      "1      5186\n",
      "Name: count, dtype: int64\n",
      "MaternalTobaccoUse\n",
      "0    98.4\n",
      "1     1.6\n",
      "Name: proportion, dtype: float64\n",
      "NonTobaccoSmoker\n",
      "1    319655\n",
      "0      5186\n",
      "Name: count, dtype: int64\n",
      "NonTobaccoSmoker\n",
      "1    98.4\n",
      "0     1.6\n",
      "Name: proportion, dtype: float64\n"
     ]
    }
   ],
   "source": [
    "## Mother smokes tobacco\n",
    "BRGE_df['v463a'] = BRGE_df['v463a'].replace(np.nan, 0)\n",
    "BRGE_df['v463b'] = BRGE_df['v463b'].replace(np.nan, 0)\n",
    "BRGE_df['v463c'] = BRGE_df['v463c'].replace(np.nan, 0)\n",
    "BRGE_df['v463d'] = BRGE_df['v463d'].replace(np.nan, 0)\n",
    "BRGE_df['v463e'] = BRGE_df['v463e'].replace(np.nan, 0)\n",
    "BRGE_df['v463f'] = BRGE_df['v463f'].replace(np.nan, 0)\n",
    "BRGE_df['v463g'] = BRGE_df['v463g'].replace(np.nan, 0)\n",
    "BRGE_df['v463x'] = BRGE_df['v463x'].replace(np.nan, 0)\n",
    " \n",
    "tobacco_vars = ['v463a', 'v463b', 'v463c', 'v463d', 'v463e', 'v463f', 'v463g', 'v463x']\n",
    "BRGE_df['MaternalTobaccoUse'] = BRGE_df[tobacco_vars].any(axis=1).astype(int)\n",
    "print(BRGE_df['MaternalTobaccoUse'].value_counts(dropna=False))\n",
    "print((BRGE_df['MaternalTobaccoUse'].value_counts(dropna=False, normalize=True) * 100).round(2))\n",
    "\n",
    "BRGE_df['NonTobaccoSmoker'] = 1 - BRGE_df['MaternalTobaccoUse']\n",
    "print(BRGE_df['NonTobaccoSmoker'].value_counts(dropna=False))\n",
    "print((BRGE_df['NonTobaccoSmoker'].value_counts(dropna=False, normalize=True) * 100).round(2))"
   ]
  },
  {
   "cell_type": "markdown",
   "id": "dde18153-beeb-4027-8afb-3e122c8acf09",
   "metadata": {},
   "source": [
    "## Social Economic Status"
   ]
  },
  {
   "cell_type": "markdown",
   "id": "261c4642-636e-45bb-9f9b-c9ccbc5029fb",
   "metadata": {},
   "source": [
    "### Community characteristics"
   ]
  },
  {
   "cell_type": "code",
   "execution_count": 19,
   "id": "1abce37a-7dfa-429a-986c-212efe212e71",
   "metadata": {},
   "outputs": [
    {
     "name": "stdout",
     "output_type": "stream",
     "text": [
      "UrbanResidence\n",
      "0    223570\n",
      "1    101271\n",
      "Name: count, dtype: int64\n",
      "UrbanResidence\n",
      "0    68.82\n",
      "1    31.18\n",
      "Name: proportion, dtype: float64\n"
     ]
    }
   ],
   "source": [
    "# v025 # Type of place of residence # dummycode # 0: rural, 1: urban\n",
    "BRGE_df['v025'] = BRGE_df['v025'].replace({2:0, 1:1})\n",
    "BRGE_df['UrbanResidence'] = BRGE_df['v025']\n",
    "\n",
    "print(BRGE_df['UrbanResidence'].value_counts(dropna=False))\n",
    "print((BRGE_df['UrbanResidence'].value_counts(dropna=False, normalize=True) * 100).round(2))\n"
   ]
  },
  {
   "cell_type": "markdown",
   "id": "b71b145c-b43e-47b3-ab3b-a63c8cee598a",
   "metadata": {},
   "source": [
    "### Household characteristics"
   ]
  },
  {
   "cell_type": "code",
   "execution_count": 20,
   "id": "20f27281-7f51-4ae3-af72-97cb78cce597",
   "metadata": {
    "scrolled": true
   },
   "outputs": [
    {
     "name": "stdout",
     "output_type": "stream",
     "text": [
      "WealthIndex\n",
      "Low       154051\n",
      "High      105218\n",
      "Middle     65572\n",
      "Name: count, dtype: int64\n",
      "WealthIndex\n",
      "Low       47.42\n",
      "High      32.39\n",
      "Middle    20.19\n",
      "Name: proportion, dtype: float64\n",
      "WealthIndexFactorScore\n",
      "-87520     22\n",
      " 118832    21\n",
      "-80220     21\n",
      " 7928      21\n",
      "-87058     20\n",
      "           ..\n",
      " 74754      1\n",
      " 29906      1\n",
      " 34561      1\n",
      "-99204      1\n",
      " 144319     1\n",
      "Name: count, Length: 150383, dtype: int64\n"
     ]
    }
   ],
   "source": [
    "# wealth index - categorical variable\n",
    "BRGE_df['v190'] = BRGE_df['v190'].replace(1, 'Low') # Lowest\n",
    "BRGE_df['v190'] = BRGE_df['v190'].replace(2, 'Low') # Second\n",
    "BRGE_df['v190'] = BRGE_df['v190'].replace(3, 'Middle') # Middle\n",
    "BRGE_df['v190'] = BRGE_df['v190'].replace(4, 'High') # Fourth\n",
    "BRGE_df['v190'] = BRGE_df['v190'].replace(5, 'High') # Highest\n",
    "BRGE_df['WealthIndex'] = BRGE_df['v190']\n",
    "\n",
    "print(BRGE_df['WealthIndex'].value_counts(dropna=False))\n",
    "print((BRGE_df['WealthIndex'].value_counts(dropna=False, normalize=True) * 100).round(2))\n",
    "\n",
    "# wealth index factor score combined \n",
    "BRGE_df.rename(columns={'v191': 'WealthIndexFactorScore'}, inplace=True)\n",
    "print(BRGE_df['WealthIndexFactorScore'].value_counts(dropna=False))\n"
   ]
  },
  {
   "cell_type": "markdown",
   "id": "5ac46c2c-6a9c-4580-8e06-f00904857dcf",
   "metadata": {},
   "source": [
    "### Individual: maternal"
   ]
  },
  {
   "cell_type": "code",
   "execution_count": 21,
   "id": "4ea41415-2622-4d2a-8068-1dffa00c081a",
   "metadata": {},
   "outputs": [
    {
     "name": "stdout",
     "output_type": "stream",
     "text": [
      "MothersEmploymentStatus\n",
      "1       198377\n",
      "0       126150\n",
      "<NA>       314\n",
      "Name: count, dtype: Int64\n",
      "MothersEmploymentStatus\n",
      "1       61.07\n",
      "0       38.83\n",
      "<NA>      0.1\n",
      "Name: proportion, dtype: Float64\n"
     ]
    }
   ],
   "source": [
    "# Mother's employment status - Whether the respondent is currently working\n",
    "BRGE_df['MothersEmploymentStatus'] = BRGE_df['v714']\n",
    "BRGE_df['MothersEmploymentStatus'] = BRGE_df['MothersEmploymentStatus'].astype('Int64')\n",
    "\n",
    "print(BRGE_df['MothersEmploymentStatus'].value_counts(dropna=False))\n",
    "print((BRGE_df['MothersEmploymentStatus'].value_counts(dropna=False, normalize=True) * 100).round(2))\n"
   ]
  },
  {
   "cell_type": "code",
   "execution_count": 22,
   "id": "c5df241f-b515-4947-862e-f8762b827136",
   "metadata": {
    "scrolled": true
   },
   "outputs": [
    {
     "name": "stdout",
     "output_type": "stream",
     "text": [
      "MothersEducationalLevel\n",
      "No Education    125146\n",
      "Primary         107303\n",
      "Secondary        80814\n",
      "Higher           11576\n",
      "NaN                  2\n",
      "Name: count, dtype: int64\n",
      "MothersEducationalLevel\n",
      "No Education    38.53\n",
      "Primary         33.03\n",
      "Secondary       24.88\n",
      "Higher           3.56\n",
      "NaN              0.00\n",
      "Name: proportion, dtype: float64\n"
     ]
    }
   ],
   "source": [
    "# v106 # Mother's Highest educational level # 6 NaN\n",
    "BRGE_df['v106'] = BRGE_df['v106'].replace(0, 'No Education') # 'No Education'\n",
    "BRGE_df['v106'] = BRGE_df['v106'].replace(1, 'Primary') # 'Primary'\n",
    "BRGE_df['v106'] = BRGE_df['v106'].replace(2, 'Secondary') # 'Secondary'\n",
    "BRGE_df['v106'] = BRGE_df['v106'].replace(3, 'Higher') # 'Higher'\n",
    "BRGE_df['v106'] = BRGE_df['v106'].replace(6, np.nan)\n",
    "BRGE_df['MothersEducationalLevel'] = BRGE_df['v106']\n",
    "\n",
    "print(BRGE_df['MothersEducationalLevel'].value_counts(dropna=False))\n",
    "print((BRGE_df['MothersEducationalLevel'].value_counts(dropna=False, normalize=True) * 100).round(2))\n"
   ]
  },
  {
   "cell_type": "markdown",
   "id": "fa642355-6732-4c68-9f72-4c7060f16cb8",
   "metadata": {},
   "source": [
    "## Demographics"
   ]
  },
  {
   "cell_type": "markdown",
   "id": "ed0e49c4-1fa5-4baa-8432-1d40a69c0560",
   "metadata": {},
   "source": [
    "### Individual: maternal "
   ]
  },
  {
   "cell_type": "code",
   "execution_count": 23,
   "id": "3ef7cf6f-202e-4308-a1d4-e64a16f0c7f6",
   "metadata": {
    "scrolled": true
   },
   "outputs": [
    {
     "name": "stdout",
     "output_type": "stream",
     "text": [
      "MothersCurrentAge\n",
      "25    22417\n",
      "30    21205\n",
      "28    18008\n",
      "27    16635\n",
      "22    15896\n",
      "26    15864\n",
      "20    15827\n",
      "23    15437\n",
      "35    14924\n",
      "24    14757\n",
      "32    13581\n",
      "29    13318\n",
      "21    11954\n",
      "31    11393\n",
      "33    11075\n",
      "34    10082\n",
      "36     9326\n",
      "38     8728\n",
      "19     8460\n",
      "37     8454\n",
      "40     8197\n",
      "18     7179\n",
      "39     6312\n",
      "42     4161\n",
      "41     4153\n",
      "17     3329\n",
      "43     3040\n",
      "45     2932\n",
      "44     2188\n",
      "16     1587\n",
      "46     1368\n",
      "47     1014\n",
      "48      885\n",
      "15      611\n",
      "49      544\n",
      "Name: count, dtype: int64\n",
      "count    324841.00\n",
      "mean         28.98\n",
      "std           6.97\n",
      "min          15.00\n",
      "25%          24.00\n",
      "50%          28.00\n",
      "75%          34.00\n",
      "max          49.00\n",
      "Name: MothersCurrentAge, dtype: float64\n"
     ]
    }
   ],
   "source": [
    "# v012 # Mother's Current age\n",
    "BRGE_df['MothersCurrentAge'] = BRGE_df['v012']\n",
    "print(BRGE_df['MothersCurrentAge'].value_counts(dropna=False))\n",
    "print(BRGE_df['MothersCurrentAge'].describe().round(2))"
   ]
  },
  {
   "cell_type": "code",
   "execution_count": 24,
   "id": "9fc67d8a-e191-441d-b02a-fef4bc1a6cae",
   "metadata": {
    "scrolled": true
   },
   "outputs": [
    {
     "name": "stdout",
     "output_type": "stream",
     "text": [
      "MaritalStatus\n",
      "married/living with partner                             282113\n",
      "widowed/divorced/no longer living together/separated     21941\n",
      "never in union                                           20787\n",
      "Name: count, dtype: int64\n",
      "MaritalStatus\n",
      "married/living with partner                             86.85\n",
      "widowed/divorced/no longer living together/separated     6.75\n",
      "never in union                                           6.40\n",
      "Name: proportion, dtype: float64\n"
     ]
    }
   ],
   "source": [
    "# mother's marital status\n",
    "BRGE_df['v501'] = BRGE_df['v501'].replace(0, 'never in union')\n",
    "BRGE_df['v501'] = BRGE_df['v501'].replace(1, 'married/living with partner')\n",
    "BRGE_df['v501'] = BRGE_df['v501'].replace(2, 'married/living with partner')\n",
    "BRGE_df['v501'] = BRGE_df['v501'].replace(3, 'widowed/divorced/no longer living together/separated')\n",
    "BRGE_df['v501'] = BRGE_df['v501'].replace(4, 'widowed/divorced/no longer living together/separated')\n",
    "BRGE_df['v501'] = BRGE_df['v501'].replace(5, 'widowed/divorced/no longer living together/separated')\n",
    "BRGE_df['MaritalStatus'] = BRGE_df['v501']\n",
    "\n",
    "print(BRGE_df['MaritalStatus'].value_counts(dropna=False))\n",
    "print((BRGE_df['MaritalStatus'].value_counts(dropna=False, normalize=True) * 100).round(2))\n"
   ]
  },
  {
   "cell_type": "code",
   "execution_count": 25,
   "id": "563ce963-6b07-4783-aac2-0b34772d55ef",
   "metadata": {
    "scrolled": true
   },
   "outputs": [
    {
     "name": "stdout",
     "output_type": "stream",
     "text": [
      "AgeAtFirstBirth\n",
      "18    41000\n",
      "17    40082\n",
      "19    38209\n",
      "20    32136\n",
      "16    32131\n",
      "21    24735\n",
      "15    21639\n",
      "22    19177\n",
      "23    14187\n",
      "14    11426\n",
      "24    10818\n",
      "25     8244\n",
      "26     6001\n",
      "13     5144\n",
      "27     4638\n",
      "28     3207\n",
      "12     2778\n",
      "29     2558\n",
      "30     1852\n",
      "31     1397\n",
      "32      968\n",
      "33      634\n",
      "34      509\n",
      "35      349\n",
      "36      249\n",
      "11      174\n",
      "37      166\n",
      "38      114\n",
      "10       76\n",
      "39       66\n",
      "40       51\n",
      "41       37\n",
      "44       23\n",
      "42       20\n",
      "43       19\n",
      "45       10\n",
      "9         5\n",
      "48        3\n",
      "8         3\n",
      "46        2\n",
      "47        2\n",
      "6         2\n",
      "Name: count, dtype: int64\n",
      "count    324841.00\n",
      "mean         19.33\n",
      "std           3.86\n",
      "min           6.00\n",
      "25%          17.00\n",
      "50%          19.00\n",
      "75%          21.00\n",
      "max          48.00\n",
      "Name: AgeAtFirstBirth, dtype: float64\n"
     ]
    }
   ],
   "source": [
    "# Age of respondent at first birth\n",
    "BRGE_df['AgeAtFirstBirth'] = BRGE_df['v212']\n",
    "BRGE_df['AgeAtFirstBirth'] = pd.to_numeric(BRGE_df['AgeAtFirstBirth'], errors='coerce')\n",
    "print(BRGE_df['AgeAtFirstBirth'].value_counts(dropna=False))\n",
    "print(BRGE_df['AgeAtFirstBirth'].describe().round(2))\n"
   ]
  },
  {
   "cell_type": "code",
   "execution_count": 26,
   "id": "84a23a28-b282-418b-8a29-dd0bd3d2e2be",
   "metadata": {
    "scrolled": true
   },
   "outputs": [
    {
     "name": "stdout",
     "output_type": "stream",
     "text": [
      "AgeAtFirstMarriage\n",
      "17.0    34486\n",
      "16.0    33581\n",
      "18.0    32379\n",
      "15.0    31589\n",
      "19.0    27038\n",
      "20.0    22994\n",
      "14.0    22037\n",
      "NaN     20787\n",
      "21.0    16793\n",
      "22.0    13606\n",
      "13.0    12416\n",
      "23.0    10478\n",
      "24.0     8120\n",
      "25.0     6448\n",
      "12.0     6442\n",
      "26.0     4878\n",
      "27.0     3815\n",
      "11.0     3225\n",
      "28.0     2818\n",
      "29.0     2238\n",
      "10.0     2059\n",
      "30.0     1796\n",
      "31.0     1265\n",
      "32.0      944\n",
      "33.0      649\n",
      "34.0      529\n",
      "35.0      372\n",
      "36.0      276\n",
      "38.0      170\n",
      "37.0      164\n",
      "9.0        89\n",
      "39.0       87\n",
      "40.0       57\n",
      "8.0        56\n",
      "41.0       45\n",
      "42.0       31\n",
      "43.0       25\n",
      "7.0        20\n",
      "44.0       14\n",
      "6.0         8\n",
      "45.0        7\n",
      "46.0        4\n",
      "4.0         3\n",
      "47.0        2\n",
      "5.0         1\n",
      "Name: count, dtype: int64\n",
      "count    304054.00\n",
      "mean         18.39\n",
      "std           4.27\n",
      "min           4.00\n",
      "25%          15.00\n",
      "50%          18.00\n",
      "75%          20.00\n",
      "max          47.00\n",
      "Name: AgeAtFirstMarriage, dtype: float64\n",
      "OfAgeMarriage\n",
      "1       158042\n",
      "0       146012\n",
      "<NA>     20787\n",
      "Name: count, dtype: Int64\n",
      "OfAgeMarriage\n",
      "1       48.65\n",
      "0       44.95\n",
      "<NA>      6.4\n",
      "Name: proportion, dtype: Float64\n"
     ]
    }
   ],
   "source": [
    "# age at first marriage\n",
    "BRGE_df['AgeAtFirstMarriage'] = BRGE_df['v511']\n",
    "BRGE_df['AgeAtFirstMarriage'] = pd.to_numeric(BRGE_df['AgeAtFirstMarriage'], errors='coerce')\n",
    "print(BRGE_df['AgeAtFirstMarriage'].value_counts(dropna=False))\n",
    "print(BRGE_df['AgeAtFirstMarriage'].describe().round(2))\n",
    "\n",
    "## early marriage\n",
    "BRGE_df['OfAgeMarriage'] = np.where(BRGE_df['v511'] >= 18, 1, \n",
    "                                    np.where(BRGE_df['v511'] < 18, 0, np.nan))\n",
    "BRGE_df['OfAgeMarriage'] = BRGE_df['OfAgeMarriage'].astype('Int64')\n",
    "print(BRGE_df['OfAgeMarriage'].value_counts(dropna=False))\n",
    "print((BRGE_df['OfAgeMarriage'].value_counts(dropna=False, normalize=True) * 100).round(2))\n"
   ]
  },
  {
   "cell_type": "markdown",
   "id": "7cba8a44-8547-4bef-b1e8-e21c5912c135",
   "metadata": {},
   "source": [
    "### Household"
   ]
  },
  {
   "cell_type": "markdown",
   "id": "c7dce253-635c-4103-a66a-99a053b71d7b",
   "metadata": {},
   "source": [
    "### Mother's individual health"
   ]
  },
  {
   "cell_type": "code",
   "execution_count": 27,
   "id": "78a2b616-ba15-4d6c-a3b3-61156102f355",
   "metadata": {
    "scrolled": true
   },
   "outputs": [
    {
     "name": "stdout",
     "output_type": "stream",
     "text": [
      "MaternalParity\n",
      "2     63218\n",
      "3     56198\n",
      "1     49455\n",
      "4     44986\n",
      "5     35383\n",
      "6     26475\n",
      "7     19338\n",
      "8     13029\n",
      "9      7743\n",
      "10     4856\n",
      "11     2381\n",
      "12     1155\n",
      "13      399\n",
      "14      143\n",
      "15       48\n",
      "16       28\n",
      "17        4\n",
      "18        1\n",
      "21        1\n",
      "Name: count, dtype: int64\n",
      "count    324841.00\n",
      "mean          3.90\n",
      "std           2.41\n",
      "min           1.00\n",
      "25%           2.00\n",
      "50%           3.00\n",
      "75%           5.00\n",
      "max          21.00\n",
      "Name: MaternalParity, dtype: float64\n"
     ]
    }
   ],
   "source": [
    "# total children ever born - parity\n",
    "BRGE_df['MaternalParity'] = BRGE_df['v201']\n",
    "print(BRGE_df['MaternalParity'].value_counts(dropna=False))\n",
    "print(BRGE_df['MaternalParity'].describe().round(2))\n"
   ]
  },
  {
   "cell_type": "markdown",
   "id": "b1a76c3e-a497-448a-908c-9f08a92038e2",
   "metadata": {},
   "source": [
    "## Women's empowerment"
   ]
  },
  {
   "cell_type": "code",
   "execution_count": 28,
   "id": "96d4d03a-e206-4547-b9a1-662eccfe1005",
   "metadata": {
    "scrolled": true
   },
   "outputs": [
    {
     "name": "stdout",
     "output_type": "stream",
     "text": [
      "DecisionMaking_Participation\n",
      "1    179773\n",
      "0    145068\n",
      "Name: count, dtype: int64\n",
      "DecisionMaking_Participation\n",
      "1    55.34\n",
      "0    44.66\n",
      "Name: proportion, dtype: float64\n"
     ]
    }
   ],
   "source": [
    "\n",
    "# participation of mothers in the decision of their health (v) or making large household purchases (v743b) is a proxy for mother's empowerment\n",
    "BRGE_df['v743a'] = BRGE_df['v743a'].replace({1: 2, 2: 1, 3: 1, 4: 0, 5: 0, 6: 0})\n",
    "BRGE_df['v743b'] = BRGE_df['v743b'].replace({1: 2, 2: 1, 3: 1, 4: 0, 5: 0, 6: 0})\n",
    "\n",
    "BRGE_df['DecisionMaking_Participation'] = BRGE_df[['v743a', 'v743b']].sum(axis=1).apply(lambda x: 1 if x > 0 else 0)\n",
    "print(BRGE_df['DecisionMaking_Participation'].value_counts(dropna=False))\n",
    "print((BRGE_df['DecisionMaking_Participation'].value_counts(dropna=False, normalize=True) * 100).round(2))\n"
   ]
  },
  {
   "cell_type": "markdown",
   "id": "0c84dba8-434c-41a6-9a15-af75e60cb828",
   "metadata": {},
   "source": [
    "## Geospatial features"
   ]
  },
  {
   "cell_type": "code",
   "execution_count": 29,
   "id": "72194899-a13c-4804-bf2d-5232b6171a7c",
   "metadata": {},
   "outputs": [],
   "source": [
    "# LATNUM # \n",
    "BRGE_df.rename(columns={'LATNUM': 'Cluster\\'s latitude coordinate'}, inplace=True)\n",
    "\n",
    "# LONGNUM # Current age\n",
    "BRGE_df.rename(columns={'LONGNUM': 'Cluster\\'s longitude coordinate'}, inplace=True)\n"
   ]
  },
  {
   "cell_type": "markdown",
   "id": "06f02b72-a1de-4d6b-8264-ba785c41952a",
   "metadata": {},
   "source": [
    "## Creating dataset"
   ]
  },
  {
   "cell_type": "code",
   "execution_count": 30,
   "id": "d1934d8d-d06b-4310-862f-7cae8d2e9cd4",
   "metadata": {},
   "outputs": [
    {
     "data": {
      "text/plain": [
       "ChildDied\n",
       "0    304889\n",
       "1     19952\n",
       "Name: count, dtype: int64"
      ]
     },
     "execution_count": 30,
     "metadata": {},
     "output_type": "execute_result"
    }
   ],
   "source": [
    "BRGE_df['ChildDied'].value_counts()"
   ]
  },
  {
   "cell_type": "code",
   "execution_count": 31,
   "id": "9fb146b0-6b26-48aa-8ec1-aed531374a80",
   "metadata": {},
   "outputs": [],
   "source": [
    "\n",
    "CD_dataset = BRGE_df[['midx','country','Cluster\\'s latitude coordinate', 'Cluster\\'s longitude coordinate',\n",
    "                      'ChildDied', 'AgeOfChildAtDeath', 'ChildGender_Male', 'PreceedingBirthInterval(33+)', 'WasBreastfed',\n",
    "                      'HealthFacilityDelivery', 'SkilledDeliveryCareProvider', 'AntenatalCare(4+)', 'NeonatalTetanusProtection(2+)',\n",
    "                      'IronPillsDuringPregnancy', 'BabyPostnatalCheck', 'MaternalPostpartumHealthCheck', 'MetNeedFamilyPlanning', 'CleanCookingFuel', \n",
    "                      'ProtectedDrinkingWaterSource', 'ImprovedToiletFacility', 'NonTobaccoSmoker', 'OfAgeMarriage',\n",
    "                      'UrbanResidence', 'WealthIndex', 'MothersEducationalLevel', 'MothersEmploymentStatus','MothersCurrentAge', \n",
    "                      'MaritalStatus', 'AgeAtFirstBirth', 'MaternalParity', 'DecisionMaking_Participation']]\n"
   ]
  },
  {
   "cell_type": "code",
   "execution_count": 32,
   "id": "9756c076-3d58-41b5-9952-4d06b4503abf",
   "metadata": {},
   "outputs": [
    {
     "data": {
      "text/plain": [
       "(324841, 31)"
      ]
     },
     "execution_count": 32,
     "metadata": {},
     "output_type": "execute_result"
    }
   ],
   "source": [
    "\n",
    "CD_dataset.shape\n"
   ]
  },
  {
   "cell_type": "code",
   "execution_count": 33,
   "id": "7448b540-8756-492a-9fb1-020342de5098",
   "metadata": {},
   "outputs": [],
   "source": [
    "# pickling the BRGE_modified file\n",
    "f = open('Processed_Datasets/CD_cleaned.pkl', 'wb')\n",
    "pickle.dump(CD_dataset, f)\n",
    "f.close()"
   ]
  },
  {
   "cell_type": "markdown",
   "id": "448b23c2-fca8-469d-b439-2c93f59980e1",
   "metadata": {},
   "source": [
    "# End"
   ]
  },
  {
   "cell_type": "code",
   "execution_count": null,
   "id": "1f5909ba-ed12-4240-a286-22088b4968b6",
   "metadata": {},
   "outputs": [],
   "source": []
  }
 ],
 "metadata": {
  "kernelspec": {
   "display_name": "Python (RMNCHenv)",
   "language": "python",
   "name": "rmnchenv"
  },
  "language_info": {
   "codemirror_mode": {
    "name": "ipython",
    "version": 3
   },
   "file_extension": ".py",
   "mimetype": "text/x-python",
   "name": "python",
   "nbconvert_exporter": "python",
   "pygments_lexer": "ipython3",
   "version": "3.11.5"
  }
 },
 "nbformat": 4,
 "nbformat_minor": 5
}
